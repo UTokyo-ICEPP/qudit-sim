{
 "cells": [
  {
   "cell_type": "markdown",
   "id": "0ff6c46e-9179-482d-8042-bb9ebe35b249",
   "metadata": {},
   "source": [
    "# Validation of Hamiltonian generation\n",
    "\n",
    "$\\newcommand{\\ket}[1]{|#1\\rangle}$\n",
    "$\\newcommand{\\bra}[1]{\\langle#1|}$\n",
    "$\\newcommand{\\ketbra}[2]{| #1 \\rangle\\langle #2 |}$"
   ]
  },
  {
   "cell_type": "code",
   "execution_count": 1,
   "id": "efbea41c-c7bc-472c-a3dc-4da7b81cceb8",
   "metadata": {},
   "outputs": [],
   "source": [
    "import numpy as np\n",
    "import qudit_sim\n",
    "import qudit_sim.visualization"
   ]
  },
  {
   "cell_type": "markdown",
   "id": "1bdeea95-2093-4c65-9314-5e0cff0aab2c",
   "metadata": {},
   "source": [
    "## Single-qutrit Hamiltonian\n",
    "### No drive, qudit frame"
   ]
  },
  {
   "cell_type": "code",
   "execution_count": 2,
   "id": "9bbc8388-84c0-4944-8ed6-3d2d4e8d0ceb",
   "metadata": {},
   "outputs": [
    {
     "data": {
      "text/plain": [
       "[]"
      ]
     },
     "execution_count": 2,
     "metadata": {},
     "output_type": "execute_result"
    }
   ],
   "source": [
    "hgen_nodrive = qudit_sim.HamiltonianBuilder(3)\n",
    "hgen_nodrive.add_qudit(qubit_frequency=100., anharmonicity=-8., drive_amplitude=6., qudit_id='q0')\n",
    "hgen_nodrive.build()"
   ]
  },
  {
   "cell_type": "markdown",
   "id": "55b32bb7-7ffa-42cd-9ca3-9152a8c32075",
   "metadata": {},
   "source": [
    "By default, frame frequencies are set to free-qudit level gaps (qudit frame). Single qudit with no drive will therefore evolve with a null Hamiltonian.\n",
    "\n",
    "### No drive, lab frame\n",
    "If we move to the \"lab frame\":"
   ]
  },
  {
   "cell_type": "code",
   "execution_count": 3,
   "id": "683fd758-784d-4f57-827e-386833a35466",
   "metadata": {},
   "outputs": [
    {
     "data": {
      "text/latex": [
       "\\begin{align}H_{\\mathrm{static}} & = 100| 1 \\rangle\\langle 1 | + 192| 2 \\rangle\\langle 2 |\\end{align}"
      ],
      "text/plain": [
       "<IPython.core.display.Latex object>"
      ]
     },
     "execution_count": 3,
     "metadata": {},
     "output_type": "execute_result"
    }
   ],
   "source": [
    "hgen_nodrive.set_global_frame('lab')\n",
    "hamiltonian = hgen_nodrive.build()\n",
    "qudit_sim.visualization.print_hamiltonian(hamiltonian)"
   ]
  },
  {
   "cell_type": "markdown",
   "id": "a31e8a38-bc52-4a29-ac4e-62cbdb808a8b",
   "metadata": {},
   "source": [
    "The Hamiltonian has a single term (free Hamiltonian)."
   ]
  },
  {
   "cell_type": "markdown",
   "id": "998a3b1b-c67d-4ac9-963b-95c65a8f049a",
   "metadata": {},
   "source": [
    "### Constant drive, lab frame\n",
    "\n",
    "Adding a constant drive"
   ]
  },
  {
   "cell_type": "code",
   "execution_count": 4,
   "id": "6a6eedd9-b182-4545-9d22-6883f39181cf",
   "metadata": {},
   "outputs": [],
   "source": [
    "hgen = qudit_sim.HamiltonianBuilder(3)\n",
    "hgen.add_qudit(qubit_frequency=100., anharmonicity=-8., drive_amplitude=6., qudit_id='q0')\n",
    "hgen.add_drive('q0', frequency=99., amplitude=0.5+0.5j)"
   ]
  },
  {
   "cell_type": "code",
   "execution_count": 5,
   "id": "0c9d13d4-552f-4b71-9f7d-7065cdb9d3e0",
   "metadata": {},
   "outputs": [
    {
     "data": {
      "text/latex": [
       "\\begin{align}H_{\\mathrm{static}} & = 100| 1 \\rangle\\langle 1 | + 192| 2 \\rangle\\langle 2 | \\\\ H_{0} & = [\\text{((3.0 * cos(99.0 * t)) + (3.0 * sin(99.0 * t)))}]*  \\left( | 0 \\rangle\\langle 1 | + | 1 \\rangle\\langle 0 | \\right) \\\\ H_{1} & = [\\text{((3.0 * cos(99.0 * t)) + (3.0 * sin(99.0 * t)))}]*  \\left( 1.414| 1 \\rangle\\langle 2 | + 1.414| 2 \\rangle\\langle 1 | \\right)\\end{align}"
      ],
      "text/plain": [
       "<IPython.core.display.Latex object>"
      ]
     },
     "execution_count": 5,
     "metadata": {},
     "output_type": "execute_result"
    }
   ],
   "source": [
    "hgen.set_global_frame('lab')\n",
    "hamiltonian = hgen.build(rwa=False)\n",
    "qudit_sim.visualization.print_hamiltonian(hamiltonian)"
   ]
  },
  {
   "cell_type": "markdown",
   "id": "16bf3a30-55d7-48b5-9aa9-ad4bcf43ad3f",
   "metadata": {},
   "source": [
    "This is an off-resonant drive for both 0-1 and 1-2 transitions. Since we are currently in the lab frame, we expect\n",
    "- No difference in the static Hamiltonian (no static contribution from drive terms)\n",
    "- Creation / annihilation operators multiplied by the drive amplitude (6) times amplitude (0.5)\n",
    "\n",
    "The second set of terms arise from\n",
    "\n",
    "$$\n",
    "H_{d} = \\Omega_j \\left( p_j(t) \\cos (\\nu_j t) + q_j(t) \\sin (\\nu_j t) \\right) \\left( b_j^{\\dagger} + b_j \\right),\n",
    "$$\n",
    "\n",
    "where $b_j^{\\dagger} + b_j = \\ketbra{0}{1} + \\ketbra{1}{0} + \\sqrt{2} \\ketbra{1}{2} + \\sqrt{2} \\ketbra{2}{1}.$"
   ]
  },
  {
   "cell_type": "markdown",
   "id": "78fa6d24-2b8e-4847-bdbb-1ce38ff123dc",
   "metadata": {},
   "source": [
    "### Constant drive, qudit frame\n",
    "\n",
    "If we move back to the qudit frame,\n",
    "\n",
    "$$\n",
    "\\begin{gather}\n",
    "H_{\\mathrm{static}} = 0 \\\\\n",
    "\\tilde{H}_{d} = \\Omega_j \\left( p_j(t) \\cos (\\nu_j t) + q_j(t) \\sin (\\nu_j t) \\right) \\left( \\tilde{b}_j^{\\dagger} + \\tilde{b}_j \\right),\n",
    "\\end{gather}\n",
    "$$\n",
    "\n",
    "where\n",
    "\n",
    "$$\n",
    "\\tilde{b}_j = e^{-i\\omega_j t} \\ketbra{0}{1} + \\sqrt{2} e^{-i(\\omega_j + \\Delta_j)t} \\ketbra{1}{2},\n",
    "$$\n",
    "\n",
    "and therefore\n",
    "\n",
    "$$\n",
    "\\tilde{b}_j^{\\dagger} + \\tilde{b}_j = \\cos (\\omega_j t) (\\ketbra{0}{1} + \\ketbra{1}{0}) + i\\sin (\\omega_j t) (-\\ketbra{0}{1} + \\ketbra{1}{0})+ \\sqrt{2} \\cos ((\\omega_j + \\Delta_j) t) (\\ketbra{1}{2} + \\ketbra{2}{1}) + i\\sqrt{2} \\sin ((\\omega_j + \\Delta_j) t) (-\\ketbra{1}{2} + \\ketbra{2}{1}).\n",
    "$$"
   ]
  },
  {
   "cell_type": "code",
   "execution_count": 6,
   "id": "4b9351e6-2ee4-4152-8b97-f2a03bb58952",
   "metadata": {},
   "outputs": [
    {
     "data": {
      "text/latex": [
       "\\begin{align}H_{0} & = [\\text{((3.0 * cos(99.0 * t)) + (3.0 * sin(99.0 * t))) * cos(100.0 * t)}]*  \\left( | 0 \\rangle\\langle 1 | + | 1 \\rangle\\langle 0 | \\right) \\\\ H_{1} & = [\\text{((3.0 * cos(99.0 * t)) + (3.0 * sin(99.0 * t))) * sin(100.0 * t)}]*  \\left( -i| 0 \\rangle\\langle 1 | + i| 1 \\rangle\\langle 0 | \\right) \\\\ H_{2} & = [\\text{((3.0 * cos(99.0 * t)) + (3.0 * sin(99.0 * t))) * cos(92.0 * t)}]*  \\left( 1.414| 1 \\rangle\\langle 2 | + 1.414| 2 \\rangle\\langle 1 | \\right) \\\\ H_{3} & = [\\text{((3.0 * cos(99.0 * t)) + (3.0 * sin(99.0 * t))) * sin(92.0 * t)}]*  \\left( -1.414i| 1 \\rangle\\langle 2 | + 1.414i| 2 \\rangle\\langle 1 | \\right)\\end{align}"
      ],
      "text/plain": [
       "<IPython.core.display.Latex object>"
      ]
     },
     "execution_count": 6,
     "metadata": {},
     "output_type": "execute_result"
    }
   ],
   "source": [
    "hgen.set_global_frame('qudit')\n",
    "hamiltonian = hgen.build(rwa=False)\n",
    "qudit_sim.visualization.print_hamiltonian(hamiltonian)"
   ]
  },
  {
   "cell_type": "markdown",
   "id": "a06800ca-9bd6-437d-91e2-7d29c9011396",
   "metadata": {},
   "source": [
    "### Constant drive, drive frame\n",
    "\n",
    "In the drive frame (drive frequency $\\nu$),\n",
    "\n",
    "$$\n",
    "H_{\\mathrm{diag}} = (\\omega_j - \\nu) \\ketbra{1}{1} + (2\\omega_j + \\Delta_j - 2\\nu) \\ketbra{2}{2}\n",
    "$$\n",
    "\n",
    "and\n",
    "\n",
    "$$\n",
    "\\tilde{b}_j = e^{-i \\nu t} (\\ketbra{0}{1} + \\sqrt{2}\\ketbra{1}{2})\n",
    "$$"
   ]
  },
  {
   "cell_type": "code",
   "execution_count": 7,
   "id": "13821fc3-91dc-43a1-a2f1-a9f2f482c959",
   "metadata": {},
   "outputs": [
    {
     "data": {
      "text/latex": [
       "\\begin{align}H_{\\mathrm{static}} & = | 1 \\rangle\\langle 1 | - 6| 2 \\rangle\\langle 2 | \\\\ H_{0} & = [\\text{((3.0 * cos(99.0 * t)) + (3.0 * sin(99.0 * t))) * cos(99.0 * t)}]*  \\left( | 0 \\rangle\\langle 1 | + | 1 \\rangle\\langle 0 | \\right) \\\\ H_{1} & = [\\text{((3.0 * cos(99.0 * t)) + (3.0 * sin(99.0 * t))) * sin(99.0 * t)}]*  \\left( -i| 0 \\rangle\\langle 1 | + i| 1 \\rangle\\langle 0 | \\right) \\\\ H_{2} & = [\\text{((3.0 * cos(99.0 * t)) + (3.0 * sin(99.0 * t))) * cos(99.0 * t)}]*  \\left( 1.414| 1 \\rangle\\langle 2 | + 1.414| 2 \\rangle\\langle 1 | \\right) \\\\ H_{3} & = [\\text{((3.0 * cos(99.0 * t)) + (3.0 * sin(99.0 * t))) * sin(99.0 * t)}]*  \\left( -1.414i| 1 \\rangle\\langle 2 | + 1.414i| 2 \\rangle\\langle 1 | \\right)\\end{align}"
      ],
      "text/plain": [
       "<IPython.core.display.Latex object>"
      ]
     },
     "execution_count": 7,
     "metadata": {},
     "output_type": "execute_result"
    }
   ],
   "source": [
    "hgen.set_global_frame('drive')\n",
    "hamiltonian = hgen.build(rwa=False)\n",
    "qudit_sim.visualization.print_hamiltonian(hamiltonian)"
   ]
  },
  {
   "cell_type": "markdown",
   "id": "3235c76d-58d8-4e68-93b6-ea5ac4a29f4d",
   "metadata": {},
   "source": [
    "### Constant drive, qudit frame, RWA\n",
    "\n",
    "In the qudit frame with the rotating-wave approximation,\n",
    "\n",
    "$$\n",
    "\\begin{split}\n",
    "\\bar{H}_{d} = \\frac{\\Omega_j}{2} & \\left[ r^*_j(t) (e^{i(\\nu - \\omega_j)t} \\ketbra{0}{1} + e^{i(\\nu - \\omega_j - \\Delta_j)t} \\ketbra{1}{2}) + \\mathrm{h.c.} \\right] \\\\\n",
    "= \\frac{\\Omega_j}{2} & [(p(t)\\cos(\\epsilon_0 t) + q(t)\\sin(\\epsilon_0 t)) (\\ketbra{0}{1} + \\ketbra{1}{0}) + i (-p(t)\\sin(\\epsilon_0 t) + q(t)\\cos(\\epsilon_0 t)) (-\\ketbra{0}{1} + \\ketbra{1}{0}) \\\\\n",
    "& + (p(t)\\cos(\\epsilon_1 t) + q(t)\\sin(\\epsilon_1 t)) (\\ketbra{1}{2} + \\ketbra{2}{1}) + i (-p(t)\\sin(\\epsilon_1 t) + q(t)\\cos(\\epsilon_1 t)) (-\\ketbra{1}{2} + \\ketbra{2}{1})].\n",
    "\\end{split}\n",
    "$$"
   ]
  },
  {
   "cell_type": "code",
   "execution_count": 8,
   "id": "c731ee04-dabb-4084-804b-06373f85a6e6",
   "metadata": {},
   "outputs": [
    {
     "data": {
      "text/latex": [
       "\\begin{align}H_{0} & = [\\text{(1.5 * cos(-1.0 * t)) + (1.5 * sin(-1.0 * t))}]*  \\left( | 0 \\rangle\\langle 1 | + | 1 \\rangle\\langle 0 | \\right) \\\\ H_{1} & = [\\text{(-1.5 * sin(-1.0 * t)) + (1.5 * cos(-1.0 * t))}]*  \\left( -i| 0 \\rangle\\langle 1 | + i| 1 \\rangle\\langle 0 | \\right) \\\\ H_{2} & = [\\text{(1.5 * cos(7.0 * t)) + (1.5 * sin(7.0 * t))}]*  \\left( 1.414| 1 \\rangle\\langle 2 | + 1.414| 2 \\rangle\\langle 1 | \\right) \\\\ H_{3} & = [\\text{(-1.5 * sin(7.0 * t)) + (1.5 * cos(7.0 * t))}]*  \\left( -1.414i| 1 \\rangle\\langle 2 | + 1.414i| 2 \\rangle\\langle 1 | \\right)\\end{align}"
      ],
      "text/plain": [
       "<IPython.core.display.Latex object>"
      ]
     },
     "execution_count": 8,
     "metadata": {},
     "output_type": "execute_result"
    }
   ],
   "source": [
    "hgen.set_global_frame('qudit')\n",
    "hamiltonian = hgen.build(rwa=True)\n",
    "qudit_sim.visualization.print_hamiltonian(hamiltonian)"
   ]
  },
  {
   "cell_type": "markdown",
   "id": "95f03c42-6180-4c2e-836c-484695c3cd21",
   "metadata": {},
   "source": [
    "### Constant drive, drive frame, RWA\n",
    "\n",
    "And in the drive frame with RWA,\n",
    "\n",
    "$$\n",
    "\\begin{align}\n",
    "H_{\\mathrm{diag}} = & (\\omega_j - \\nu) \\ketbra{1}{1} + (2\\omega_j + \\Delta_j - 2\\nu) \\ketbra{2}{2} \\\\\n",
    "\\bar{H}_{d} = & \\frac{\\Omega_j}{2} [(p(t)-iq(t)) (\\ketbra{0}{1} + \\sqrt{2}\\ketbra{1}{2}) + (p(t) + iq(t)) (\\ketbra{1}{0} + \\sqrt{2}\\ketbra{2}{1})].\n",
    "\\end{align}\n",
    "$$\n",
    "\n",
    "But since $p(t) = q(t) = 0.5$ (constant), we get only a single $H_{\\mathrm{static}}$."
   ]
  },
  {
   "cell_type": "code",
   "execution_count": 9,
   "id": "42b7ad12-a7b3-449b-a704-833ba309fdb8",
   "metadata": {},
   "outputs": [
    {
     "data": {
      "text/latex": [
       "\\begin{align}H_{\\mathrm{static}} & = 2.121e^{1.75π i}| 0 \\rangle\\langle 1 | + 2.121e^{0.25π i}| 1 \\rangle\\langle 0 | + | 1 \\rangle\\langle 1 | + 3e^{1.75π i}| 1 \\rangle\\langle 2 | + 3e^{0.25π i}| 2 \\rangle\\langle 1 | - 6| 2 \\rangle\\langle 2 |\\end{align}"
      ],
      "text/plain": [
       "<IPython.core.display.Latex object>"
      ]
     },
     "execution_count": 9,
     "metadata": {},
     "output_type": "execute_result"
    }
   ],
   "source": [
    "hgen.set_global_frame('drive')\n",
    "hamiltonian = hgen.build(rwa=True)\n",
    "qudit_sim.visualization.print_hamiltonian(hamiltonian)"
   ]
  },
  {
   "cell_type": "markdown",
   "id": "6c8bdfd9-251a-4cb2-8cc3-297b53fbe743",
   "metadata": {},
   "source": [
    "### Constant drive, lab frame with phase offset\n",
    "\n",
    "Nonzero frame phase offsets in the lab frame"
   ]
  },
  {
   "cell_type": "code",
   "execution_count": 10,
   "id": "90856cb4-66ac-4695-af34-febecb492bb1",
   "metadata": {},
   "outputs": [
    {
     "data": {
      "text/latex": [
       "\\begin{align}H_{\\mathrm{static}} & = 100| 1 \\rangle\\langle 1 | + 192| 2 \\rangle\\langle 2 | \\\\ H_{0} & = [\\text{((3.0 * cos(99.0 * t)) + (3.0 * sin(99.0 * t)))}]*  \\left( e^{1.90π i}| 0 \\rangle\\langle 1 | + e^{0.10π i}| 1 \\rangle\\langle 0 | \\right) \\\\ H_{1} & = [\\text{((3.0 * cos(99.0 * t)) + (3.0 * sin(99.0 * t)))}]*  \\left( 1.414e^{1.80π i}| 1 \\rangle\\langle 2 | + 1.414e^{0.20π i}| 2 \\rangle\\langle 1 | \\right)\\end{align}"
      ],
      "text/plain": [
       "<IPython.core.display.Latex object>"
      ]
     },
     "execution_count": 10,
     "metadata": {},
     "output_type": "execute_result"
    }
   ],
   "source": [
    "hgen.set_frame('q0', frequency=np.zeros((2,)), phase=np.array([0.1 * np.pi, 0.2 * np.pi]))\n",
    "hamiltonian = hgen.build(rwa=False)\n",
    "qudit_sim.visualization.print_hamiltonian(hamiltonian)"
   ]
  },
  {
   "cell_type": "markdown",
   "id": "96130980-6018-433a-bdb9-ea31ecbab800",
   "metadata": {},
   "source": [
    "### Constant drive, qudit frame with phase offset, RWA"
   ]
  },
  {
   "cell_type": "code",
   "execution_count": 11,
   "id": "9d6671d4-d488-4167-a57f-b146cf0434e8",
   "metadata": {},
   "outputs": [
    {
     "data": {
      "text/latex": [
       "\\begin{align}H_{0} & = [\\text{(1.5 * cos(-1.0 * t)) + (1.5 * sin(-1.0 * t))}]*  \\left( e^{1.90π i}| 0 \\rangle\\langle 1 | + e^{0.10π i}| 1 \\rangle\\langle 0 | \\right) \\\\ H_{1} & = [\\text{(-1.5 * sin(-1.0 * t)) + (1.5 * cos(-1.0 * t))}]*  \\left( e^{1.40π i}| 0 \\rangle\\langle 1 | + e^{0.60π i}| 1 \\rangle\\langle 0 | \\right) \\\\ H_{2} & = [\\text{(1.5 * cos(7.0 * t)) + (1.5 * sin(7.0 * t))}]*  \\left( 1.414e^{1.80π i}| 1 \\rangle\\langle 2 | + 1.414e^{0.20π i}| 2 \\rangle\\langle 1 | \\right) \\\\ H_{3} & = [\\text{(-1.5 * sin(7.0 * t)) + (1.5 * cos(7.0 * t))}]*  \\left( 1.414e^{1.30π i}| 1 \\rangle\\langle 2 | + 1.414e^{0.70π i}| 2 \\rangle\\langle 1 | \\right)\\end{align}"
      ],
      "text/plain": [
       "<IPython.core.display.Latex object>"
      ]
     },
     "execution_count": 11,
     "metadata": {},
     "output_type": "execute_result"
    }
   ],
   "source": [
    "hgen.set_frame('q0', frequency=None, phase=np.array([0.1 * np.pi, 0.2 * np.pi]))\n",
    "hamiltonian = hgen.build(rwa=True)\n",
    "qudit_sim.visualization.print_hamiltonian(hamiltonian)"
   ]
  },
  {
   "cell_type": "markdown",
   "id": "026e72b0-1dee-4557-b913-7fdb4b039a91",
   "metadata": {},
   "source": [
    "## Two-qutrit Hamiltonian\n",
    "\n",
    "Using an unrealistically large coupling to make the effects of Hint pronounced"
   ]
  },
  {
   "cell_type": "markdown",
   "id": "823fe990-75ac-4b30-9a62-b0201e2db97d",
   "metadata": {},
   "source": [
    "### No drive, qudit frame"
   ]
  },
  {
   "cell_type": "code",
   "execution_count": 12,
   "id": "d1f357ae-d161-4149-ac5e-f825d4959d78",
   "metadata": {},
   "outputs": [],
   "source": [
    "hgen_nodrive = qudit_sim.HamiltonianBuilder(3, default_frame='qudit')\n",
    "hgen_nodrive.add_qudit(qubit_frequency=100., anharmonicity=-8., drive_amplitude=6., qudit_id='q0')\n",
    "hgen_nodrive.add_qudit(qubit_frequency=110., anharmonicity=-7., drive_amplitude=7., qudit_id='q1')\n",
    "hgen_nodrive.add_coupling('q0', 'q1', 3.) # 0.03 is a more realistic number"
   ]
  },
  {
   "cell_type": "markdown",
   "id": "d5914b50-19f1-471a-87fd-940ac2f87ed8",
   "metadata": {},
   "source": [
    "In the qudit frame we have\n",
    "\n",
    "$$\n",
    "\\begin{split}\n",
    "\\tilde{H}_{\\mathrm{int}} & = J_{jk} \\left[(e^{i\\omega_0 t}\\ketbra{1}{0}_0 + \\sqrt{2} e^{i(\\omega_0 + \\Delta_0) t} \\ketbra{2}{1}_0) (e^{-i\\omega_1 t}\\ketbra{0}{1}_1 + \\sqrt{2} e^{-i(\\omega_1 + \\Delta_1) t} \\ketbra{1}{2}_1) + \\mathrm{h.c.}\\right] \\\\\n",
    "& = J_{jk} (e^{i(\\omega_0 - \\omega_1) t}\\ketbra{1, 0}{0, 1} + \\sqrt{2} e^{i(\\omega_0 - \\omega_1 - \\Delta_1) t} \\ketbra{1, 1}{0, 2} + \\sqrt{2} e^{i(\\omega_0 + \\Delta_0 - \\omega_1) t} \\ketbra{2, 0}{1, 1} + 2 e^{i(\\omega_0 + \\Delta_0 - \\omega_1 - \\Delta_1) t} \\ketbra{2, 1}{1, 2} + \\mathrm{h.c.})\n",
    "\\end{split}\n",
    "$$"
   ]
  },
  {
   "cell_type": "code",
   "execution_count": 13,
   "id": "d20775e4-f022-4e1d-95d0-573ff26b35cb",
   "metadata": {},
   "outputs": [
    {
     "data": {
      "text/latex": [
       "\\begin{align}H_{0} & = [\\text{cos(10.0*t)}]*  \\left( 3| 0,1 \\rangle\\langle 1,0 | + 3| 1,0 \\rangle\\langle 0,1 | \\right) \\\\ H_{1} & = [\\text{sin(10.0*t)}]*  \\left( 3i| 0,1 \\rangle\\langle 1,0 | - 3i| 1,0 \\rangle\\langle 0,1 | \\right) \\\\ H_{2} & = [\\text{cos(18.0*t)}]*  \\left( 4.243| 1,1 \\rangle\\langle 2,0 | + 4.243| 2,0 \\rangle\\langle 1,1 | \\right) \\\\ H_{3} & = [\\text{sin(18.0*t)}]*  \\left( 4.243i| 1,1 \\rangle\\langle 2,0 | - 4.243i| 2,0 \\rangle\\langle 1,1 | \\right) \\\\ H_{4} & = [\\text{cos(3.0*t)}]*  \\left( 4.243| 0,2 \\rangle\\langle 1,1 | + 4.243| 1,1 \\rangle\\langle 0,2 | \\right) \\\\ H_{5} & = [\\text{sin(3.0*t)}]*  \\left( 4.243i| 0,2 \\rangle\\langle 1,1 | - 4.243i| 1,1 \\rangle\\langle 0,2 | \\right) \\\\ H_{6} & = [\\text{cos(11.0*t)}]*  \\left( 6| 1,2 \\rangle\\langle 2,1 | + 6| 2,1 \\rangle\\langle 1,2 | \\right) \\\\ H_{7} & = [\\text{sin(11.0*t)}]*  \\left( 6i| 1,2 \\rangle\\langle 2,1 | - 6i| 2,1 \\rangle\\langle 1,2 | \\right)\\end{align}"
      ],
      "text/plain": [
       "<IPython.core.display.Latex object>"
      ]
     },
     "execution_count": 13,
     "metadata": {},
     "output_type": "execute_result"
    }
   ],
   "source": [
    "hamiltonian = hgen_nodrive.build()\n",
    "qudit_sim.visualization.print_hamiltonian(hamiltonian)"
   ]
  },
  {
   "cell_type": "markdown",
   "id": "34125649-f387-41bc-a434-28da97b41fb8",
   "metadata": {},
   "source": [
    "### No drive, lab frame\n",
    "\n",
    "If we move to the lab frame, we will find a fullly static Hamiltonian"
   ]
  },
  {
   "cell_type": "code",
   "execution_count": 14,
   "id": "ec515dcd-2273-45c3-a9aa-ef998d5b9fbc",
   "metadata": {},
   "outputs": [
    {
     "data": {
      "text/latex": [
       "\\begin{align}H_{\\mathrm{static}} & = 110| 0,1 \\rangle\\langle 0,1 | + 3| 0,1 \\rangle\\langle 1,0 | + 213| 0,2 \\rangle\\langle 0,2 | + 4.243| 0,2 \\rangle\\langle 1,1 | + 3| 1,0 \\rangle\\langle 0,1 | + 100| 1,0 \\rangle\\langle 1,0 | + 4.243| 1,1 \\rangle\\langle 0,2 | + 210| 1,1 \\rangle\\langle 1,1 | + 4.243| 1,1 \\rangle\\langle 2,0 | + 313| 1,2 \\rangle\\langle 1,2 | + 6| 1,2 \\rangle\\langle 2,1 | + 4.243| 2,0 \\rangle\\langle 1,1 | + 192| 2,0 \\rangle\\langle 2,0 | + 6| 2,1 \\rangle\\langle 1,2 | + 302| 2,1 \\rangle\\langle 2,1 | + 405| 2,2 \\rangle\\langle 2,2 |\\end{align}"
      ],
      "text/plain": [
       "<IPython.core.display.Latex object>"
      ]
     },
     "execution_count": 14,
     "metadata": {},
     "output_type": "execute_result"
    }
   ],
   "source": [
    "hgen_nodrive.set_global_frame('lab')\n",
    "hamiltonian = hgen_nodrive.build()\n",
    "qudit_sim.visualization.print_hamiltonian(hamiltonian)"
   ]
  },
  {
   "cell_type": "markdown",
   "id": "c695940f-0c3a-433a-b38d-d1ec5890a3e8",
   "metadata": {},
   "source": [
    "### No drive, dressed frame"
   ]
  },
  {
   "cell_type": "code",
   "execution_count": 15,
   "id": "fe14ef98-cc23-4c50-85af-595b88d230b6",
   "metadata": {},
   "outputs": [
    {
     "data": {
      "text/latex": [
       "\\begin{align}H_{\\mathrm{static}} & = -0.831| 0,1 \\rangle\\langle 0,1 | - 3.261| 0,2 \\rangle\\langle 0,2 | + 0.831| 1,0 \\rangle\\langle 1,0 | - 2.430| 1,2 \\rangle\\langle 1,2 | + 0.991| 2,0 \\rangle\\langle 2,0 | + 0.160| 2,1 \\rangle\\langle 2,1 | - 2.271| 2,2 \\rangle\\langle 2,2 | \\\\ H_{0} & = [\\text{cos(11.661903789690598*t)}]*  \\left( 3| 0,1 \\rangle\\langle 1,0 | + 3| 1,0 \\rangle\\langle 0,1 | \\right) \\\\ H_{1} & = [\\text{sin(11.661903789690598*t)}]*  \\left( 3i| 0,1 \\rangle\\langle 1,0 | - 3i| 1,0 \\rangle\\langle 0,1 | \\right) \\\\ H_{2} & = [\\text{cos(18.9905348418458*t)}]*  \\left( 4.243| 1,1 \\rangle\\langle 2,0 | + 4.243| 2,0 \\rangle\\langle 1,1 | \\right) \\\\ H_{3} & = [\\text{sin(18.9905348418458*t)}]*  \\left( 4.243i| 1,1 \\rangle\\langle 2,0 | - 4.243i| 2,0 \\rangle\\langle 1,1 | \\right) \\\\ H_{4} & = [\\text{cos(6.261260989755812*t)}]*  \\left( 4.243| 0,2 \\rangle\\langle 1,1 | + 4.243| 1,1 \\rangle\\langle 0,2 | \\right) \\\\ H_{5} & = [\\text{sin(6.261260989755812*t)}]*  \\left( 4.243i| 0,2 \\rangle\\langle 1,1 | - 4.243i| 1,1 \\rangle\\langle 0,2 | \\right) \\\\ H_{6} & = [\\text{cos(13.589892041911014*t)}]*  \\left( 6| 1,2 \\rangle\\langle 2,1 | + 6| 2,1 \\rangle\\langle 1,2 | \\right) \\\\ H_{7} & = [\\text{sin(13.589892041911014*t)}]*  \\left( 6i| 1,2 \\rangle\\langle 2,1 | - 6i| 2,1 \\rangle\\langle 1,2 | \\right)\\end{align}"
      ],
      "text/plain": [
       "<IPython.core.display.Latex object>"
      ]
     },
     "execution_count": 15,
     "metadata": {},
     "output_type": "execute_result"
    }
   ],
   "source": [
    "hgen_nodrive.set_global_frame('dressed')\n",
    "hamiltonian = hgen_nodrive.build()\n",
    "qudit_sim.visualization.print_hamiltonian(hamiltonian)"
   ]
  },
  {
   "cell_type": "markdown",
   "id": "09c51fd2-f5f2-4b7c-912a-fcbefce780ce",
   "metadata": {},
   "source": [
    "### Constant drive, qudit frame with phase offset, RWA"
   ]
  },
  {
   "cell_type": "code",
   "execution_count": 16,
   "id": "f89a2616-31fd-4381-8320-00ff978f3f70",
   "metadata": {},
   "outputs": [],
   "source": [
    "hgen = qudit_sim.HamiltonianBuilder(3, default_frame='qudit')\n",
    "hgen.add_qudit(qubit_frequency=100., anharmonicity=-8., drive_amplitude=6., qudit_id='q0')\n",
    "hgen.add_qudit(qubit_frequency=110., anharmonicity=-7., drive_amplitude=7., qudit_id='q1')\n",
    "hgen.add_coupling('q0', 'q1', 0.03)\n",
    "hgen.add_drive('q0', frequency=110., amplitude=0.5+0.5j)"
   ]
  },
  {
   "cell_type": "code",
   "execution_count": 17,
   "id": "60220ccb-a975-44c4-a2d6-72168761a0cc",
   "metadata": {},
   "outputs": [
    {
     "data": {
      "text/latex": [
       "\\begin{align}H_{0} & = [\\text{cos(10.0*t)}]*  \\left( 0.030e^{6.23 i}| 0,1 \\rangle\\langle 1,0 | + 0.030e^{0.05 i}| 1,0 \\rangle\\langle 0,1 | \\right) \\\\ H_{1} & = [\\text{sin(10.0*t)}]*  \\left( 0.030e^{1.52 i}| 0,1 \\rangle\\langle 1,0 | + 0.030e^{4.76 i}| 1,0 \\rangle\\langle 0,1 | \\right) \\\\ H_{2} & = [\\text{cos(18.0*t)}]*  \\left( 0.042e^{6.13 i}| 1,1 \\rangle\\langle 2,0 | + 0.042e^{0.15 i}| 2,0 \\rangle\\langle 1,1 | \\right) \\\\ H_{3} & = [\\text{sin(18.0*t)}]*  \\left( 0.042e^{1.42 i}| 1,1 \\rangle\\langle 2,0 | + 0.042e^{4.86 i}| 2,0 \\rangle\\langle 1,1 | \\right) \\\\ H_{4} & = [\\text{cos(3.0*t)}]*  \\left( 0.042e^{0.05 i}| 0,2 \\rangle\\langle 1,1 | + 0.042e^{6.23 i}| 1,1 \\rangle\\langle 0,2 | \\right) \\\\ H_{5} & = [\\text{sin(3.0*t)}]*  \\left( 0.042e^{1.62 i}| 0,2 \\rangle\\langle 1,1 | + 0.042e^{4.66 i}| 1,1 \\rangle\\langle 0,2 | \\right) \\\\ H_{6} & = [\\text{cos(11.0*t)}]*  \\left( 0.060e^{6.23 i}| 1,2 \\rangle\\langle 2,1 | + 0.060e^{0.05 i}| 2,1 \\rangle\\langle 1,2 | \\right) \\\\ H_{7} & = [\\text{sin(11.0*t)}]*  \\left( 0.060e^{1.52 i}| 1,2 \\rangle\\langle 2,1 | + 0.060e^{4.76 i}| 2,1 \\rangle\\langle 1,2 | \\right) \\\\ H_{8} & = [\\text{(1.5 * cos(10.0 * t)) + (1.5 * sin(10.0 * t))}]*  \\left( e^{6.18 i}| 0,0 \\rangle\\langle 1,0 | + e^{6.18 i}| 0,1 \\rangle\\langle 1,1 | + e^{6.18 i}| 0,2 \\rangle\\langle 1,2 | + e^{0.10 i}| 1,0 \\rangle\\langle 0,0 | + e^{0.10 i}| 1,1 \\rangle\\langle 0,1 | + e^{0.10 i}| 1,2 \\rangle\\langle 0,2 | \\right) \\\\ H_{9} & = [\\text{(-1.5 * sin(10.0 * t)) + (1.5 * cos(10.0 * t))}]*  \\left( e^{4.61 i}| 0,0 \\rangle\\langle 1,0 | + e^{4.61 i}| 0,1 \\rangle\\langle 1,1 | + e^{4.61 i}| 0,2 \\rangle\\langle 1,2 | + e^{1.67 i}| 1,0 \\rangle\\langle 0,0 | + e^{1.67 i}| 1,1 \\rangle\\langle 0,1 | + e^{1.67 i}| 1,2 \\rangle\\langle 0,2 | \\right) \\\\ H_{10} & = [\\text{(1.5 * cos(18.0 * t)) + (1.5 * sin(18.0 * t))}]*  \\left( 1.414e^{6.08 i}| 1,0 \\rangle\\langle 2,0 | + 1.414e^{6.08 i}| 1,1 \\rangle\\langle 2,1 | + 1.414e^{6.08 i}| 1,2 \\rangle\\langle 2,2 | + 1.414e^{0.20 i}| 2,0 \\rangle\\langle 1,0 | + 1.414e^{0.20 i}| 2,1 \\rangle\\langle 1,1 | + 1.414e^{0.20 i}| 2,2 \\rangle\\langle 1,2 | \\right) \\\\ H_{11} & = [\\text{(-1.5 * sin(18.0 * t)) + (1.5 * cos(18.0 * t))}]*  \\left( 1.414e^{4.51 i}| 1,0 \\rangle\\langle 2,0 | + 1.414e^{4.51 i}| 1,1 \\rangle\\langle 2,1 | + 1.414e^{4.51 i}| 1,2 \\rangle\\langle 2,2 | + 1.414e^{1.77 i}| 2,0 \\rangle\\langle 1,0 | + 1.414e^{1.77 i}| 2,1 \\rangle\\langle 1,1 | + 1.414e^{1.77 i}| 2,2 \\rangle\\langle 1,2 | \\right)\\end{align}"
      ],
      "text/plain": [
       "<IPython.core.display.Latex object>"
      ]
     },
     "execution_count": 17,
     "metadata": {},
     "output_type": "execute_result"
    }
   ],
   "source": [
    "hgen.set_frame('q0', phase=np.array([0.1, 0.2]))\n",
    "hgen.set_frame('q1', phase=np.array([0.05, 0.15]))\n",
    "hamiltonian = hgen.build(rwa=True)\n",
    "qudit_sim.visualization.print_hamiltonian(hamiltonian, phase_norm=None)"
   ]
  }
 ],
 "metadata": {
  "kernelspec": {
   "display_name": "Python 3 (ipykernel)",
   "language": "python",
   "name": "python3"
  },
  "language_info": {
   "codemirror_mode": {
    "name": "ipython",
    "version": 3
   },
   "file_extension": ".py",
   "mimetype": "text/x-python",
   "name": "python",
   "nbconvert_exporter": "python",
   "pygments_lexer": "ipython3",
   "version": "3.8.10"
  }
 },
 "nbformat": 4,
 "nbformat_minor": 5
}
