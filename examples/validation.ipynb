{
 "cells": [
  {
   "cell_type": "markdown",
   "id": "0ff6c46e-9179-482d-8042-bb9ebe35b249",
   "metadata": {},
   "source": [
    "# Validation tests"
   ]
  },
  {
   "cell_type": "code",
   "execution_count": 1,
   "id": "efbea41c-c7bc-472c-a3dc-4da7b81cceb8",
   "metadata": {},
   "outputs": [],
   "source": [
    "import sys\n",
    "import logging\n",
    "import numpy as np\n",
    "import matplotlib.pyplot as plt\n",
    "import h5py\n",
    "import qutip as qtp\n",
    "from rqutils.qprint import qprint"
   ]
  },
  {
   "cell_type": "code",
   "execution_count": 2,
   "id": "599e3678-076a-412a-a327-800878afe7b7",
   "metadata": {},
   "outputs": [],
   "source": [
    "%load_ext autoreload\n",
    "%autoreload 1"
   ]
  },
  {
   "cell_type": "code",
   "execution_count": 3,
   "id": "9bfc8a84-625a-4941-923a-b9cd74d8adeb",
   "metadata": {},
   "outputs": [],
   "source": [
    "%aimport qudit_sim"
   ]
  },
  {
   "cell_type": "markdown",
   "id": "1bdeea95-2093-4c65-9314-5e0cff0aab2c",
   "metadata": {},
   "source": [
    "## Single-qutrit Hamiltonian"
   ]
  },
  {
   "cell_type": "code",
   "execution_count": 4,
   "id": "9bbc8388-84c0-4944-8ed6-3d2d4e8d0ceb",
   "metadata": {},
   "outputs": [
    {
     "data": {
      "text/plain": [
       "[]"
      ]
     },
     "execution_count": 4,
     "metadata": {},
     "output_type": "execute_result"
    }
   ],
   "source": [
    "hgen = qudit_sim.HamiltonianGenerator(3)\n",
    "hgen.add_qudit(qubit_frequency=100., anharmonicity=-8., drive_amplitude=6., qudit_id='q0')\n",
    "hgen.generate()"
   ]
  },
  {
   "cell_type": "markdown",
   "id": "55b32bb7-7ffa-42cd-9ca3-9152a8c32075",
   "metadata": {},
   "source": [
    "By default, frame frequencies are set to free-qudit level gaps (qudit frame). Single qudit with no drive will therefore evolve with a null Hamiltonian.\n",
    "\n",
    "If we move to the \"lab frame\":"
   ]
  },
  {
   "cell_type": "code",
   "execution_count": 5,
   "id": "683fd758-784d-4f57-827e-386833a35466",
   "metadata": {},
   "outputs": [
    {
     "data": {
      "text/plain": [
       "[Quantum object: dims = [[3], [3]], shape = (3, 3), type = oper, isherm = True\n",
       " Qobj data =\n",
       " [[  0.   0.   0.]\n",
       "  [  0. 100.   0.]\n",
       "  [  0.   0. 192.]]]"
      ]
     },
     "execution_count": 5,
     "metadata": {},
     "output_type": "execute_result"
    }
   ],
   "source": [
    "hgen.set_frame('q0', frequency=np.zeros(2))\n",
    "hgen.generate()"
   ]
  },
  {
   "cell_type": "markdown",
   "id": "998a3b1b-c67d-4ac9-963b-95c65a8f049a",
   "metadata": {},
   "source": [
    "Adding a constant drive"
   ]
  },
  {
   "cell_type": "code",
   "execution_count": 6,
   "id": "fe9a6da8-eb2c-4798-a6cd-83d6c5d2f440",
   "metadata": {},
   "outputs": [
    {
     "name": "stdout",
     "output_type": "stream",
     "text": [
      "5\n"
     ]
    }
   ],
   "source": [
    "hgen.add_drive('q0', frequency=99., amplitude=0.5+0.5j)\n",
    "hamiltonian = hgen.generate()\n",
    "print(len(hamiltonian))"
   ]
  },
  {
   "cell_type": "code",
   "execution_count": 7,
   "id": "dcdbd045-eea0-40f6-afc7-e1f233e3406b",
   "metadata": {},
   "outputs": [
    {
     "data": {
      "text/latex": [
       "$\\displaystyle H_{\\mathrm{static}} = 100\\frac{XX}{2} + 192\\frac{YY}{2}$"
      ],
      "text/plain": [
       "<rqutils.qprint.LaTeXRepr at 0x7fcda46e9a60>"
      ]
     },
     "execution_count": 7,
     "metadata": {},
     "output_type": "execute_result"
    }
   ],
   "source": [
    "qprint(hamiltonian[0].full(), 'pauli', lhs_label=r'H_{\\mathrm{static}}')"
   ]
  },
  {
   "cell_type": "code",
   "execution_count": 8,
   "id": "174ec068-9c2e-41eb-b21b-956f7c08afe4",
   "metadata": {},
   "outputs": [
    {
     "data": {
      "text/latex": [
       "$\\displaystyle (1.5 * cos(99.0 * t)) + (1.5 * sin(99.0 * t))*  \\left( ['\\\\frac{II}{2}' '\\\\frac{IX}{2}' '\\\\frac{IY}{2}' '\\\\frac{IZ}{2}'] + ['\\\\frac{XI}{2}' '\\\\frac{XX}{2}' '\\\\frac{XY}{2}' '\\\\frac{XZ}{2}'] \\right)$"
      ],
      "text/plain": [
       "<rqutils.qprint.LaTeXRepr at 0x7fcf302c0670>"
      ]
     },
     "execution_count": 8,
     "metadata": {},
     "output_type": "execute_result"
    }
   ],
   "source": [
    "qprint(hamiltonian[1][0], 'pauli', amp_norm=(1., f'{hamiltonian[1][1]}*'))"
   ]
  },
  {
   "cell_type": "markdown",
   "id": "af4d76e6-b572-4e51-9547-13dd7ab8b5f7",
   "metadata": {},
   "source": [
    "## Parameters from `ibmq_lima`"
   ]
  },
  {
   "cell_type": "code",
   "execution_count": 2,
   "id": "bcc9d5f2-fb51-42df-90e8-9dc1f24af455",
   "metadata": {},
   "outputs": [],
   "source": [
    "params_orig = {'delta0': -2109526390.232452,\n",
    " 'delta1': -2000246532.4219205,\n",
    " 'delta2': -2096093619.9138844,\n",
    " 'delta3': -2081254439.3432896,\n",
    " 'delta4': -2101534832.5639515,\n",
    " 'jq0q1': 11088625.669671271,\n",
    " 'jq1q2': 11792549.39343634,\n",
    " 'jq1q3': 11913891.984976945,\n",
    " 'jq3q4': 11656329.753118027,\n",
    " 'omegad0': 1588538050.4400413,\n",
    " 'omegad1': 1305787281.3336856,\n",
    " 'omegad2': 1402177549.1160629,\n",
    " 'omegad3': 1553798885.4251251,\n",
    " 'omegad4': 1555145151.5021167,\n",
    " 'wq0': 31602900677.68124,\n",
    " 'wq1': 32218187482.363426,\n",
    " 'wq2': 32970108859.848026,\n",
    " 'wq3': 33314625039.25904,\n",
    " 'wq4': 31994952868.608166}"
   ]
  },
  {
   "cell_type": "markdown",
   "id": "508d553f-90cd-4918-8a69-e107853821ec",
   "metadata": {},
   "source": [
    "## Test: Hamiltonian definition"
   ]
  },
  {
   "cell_type": "code",
   "execution_count": 3,
   "id": "ce46f9f7-bdf5-4914-9a08-1ceace7181f0",
   "metadata": {},
   "outputs": [
    {
     "name": "stdout",
     "output_type": "stream",
     "text": [
      "Hint []\n",
      "Hdrive []\n"
     ]
    }
   ],
   "source": [
    "hgen = RWAHamiltonianGenerator(0, params_orig)\n",
    "print('Hint', hgen.hint)\n",
    "print('Hdrive', hgen.hdrive)"
   ]
  },
  {
   "cell_type": "code",
   "execution_count": 4,
   "id": "96682cad-591b-4945-a501-ee7fcaada336",
   "metadata": {},
   "outputs": [
    {
     "name": "stdout",
     "output_type": "stream",
     "text": [
      "Hint [[Quantum object: dims = [[3, 3], [3, 3]], shape = (9, 9), type = oper, isherm = True\n",
      "Qobj data =\n",
      "[[       0.                0.                0.                0.\n",
      "         0.                0.                0.                0.\n",
      "         0.        ]\n",
      " [       0.                0.                0.         11088625.66967127\n",
      "         0.                0.                0.                0.\n",
      "         0.        ]\n",
      " [       0.                0.                0.                0.\n",
      "         0.                0.                0.                0.\n",
      "         0.        ]\n",
      " [       0.         11088625.66967127        0.                0.\n",
      "         0.                0.                0.                0.\n",
      "         0.        ]\n",
      " [       0.                0.                0.                0.\n",
      "         0.                0.                0.                0.\n",
      "         0.        ]\n",
      " [       0.                0.                0.                0.\n",
      "         0.                0.                0.                0.\n",
      "         0.        ]\n",
      " [       0.                0.                0.                0.\n",
      "         0.                0.                0.                0.\n",
      "         0.        ]\n",
      " [       0.                0.                0.                0.\n",
      "         0.                0.                0.                0.\n",
      "         0.        ]\n",
      " [       0.                0.                0.                0.\n",
      "         0.                0.                0.                0.\n",
      "         0.        ]], 'cos(-615286804.6821861*t)'], [Quantum object: dims = [[3, 3], [3, 3]], shape = (9, 9), type = oper, isherm = True\n",
      "Qobj data =\n",
      "[[0.       +0.j         0.       +0.j         0.       +0.j\n",
      "  0.       +0.j         0.       +0.j         0.       +0.j\n",
      "  0.       +0.j         0.       +0.j         0.       +0.j        ]\n",
      " [0.       +0.j         0.       +0.j         0.       +0.j\n",
      "  0.-11088625.66967127j 0.       +0.j         0.       +0.j\n",
      "  0.       +0.j         0.       +0.j         0.       +0.j        ]\n",
      " [0.       +0.j         0.       +0.j         0.       +0.j\n",
      "  0.       +0.j         0.       +0.j         0.       +0.j\n",
      "  0.       +0.j         0.       +0.j         0.       +0.j        ]\n",
      " [0.       +0.j         0.+11088625.66967127j 0.       +0.j\n",
      "  0.       +0.j         0.       +0.j         0.       +0.j\n",
      "  0.       +0.j         0.       +0.j         0.       +0.j        ]\n",
      " [0.       +0.j         0.       +0.j         0.       +0.j\n",
      "  0.       +0.j         0.       +0.j         0.       +0.j\n",
      "  0.       +0.j         0.       +0.j         0.       +0.j        ]\n",
      " [0.       +0.j         0.       +0.j         0.       +0.j\n",
      "  0.       +0.j         0.       +0.j         0.       +0.j\n",
      "  0.       +0.j         0.       +0.j         0.       +0.j        ]\n",
      " [0.       +0.j         0.       +0.j         0.       +0.j\n",
      "  0.       +0.j         0.       +0.j         0.       +0.j\n",
      "  0.       +0.j         0.       +0.j         0.       +0.j        ]\n",
      " [0.       +0.j         0.       +0.j         0.       +0.j\n",
      "  0.       +0.j         0.       +0.j         0.       +0.j\n",
      "  0.       +0.j         0.       +0.j         0.       +0.j        ]\n",
      " [0.       +0.j         0.       +0.j         0.       +0.j\n",
      "  0.       +0.j         0.       +0.j         0.       +0.j\n",
      "  0.       +0.j         0.       +0.j         0.       +0.j        ]], 'sin(-615286804.6821861*t)'], [Quantum object: dims = [[3, 3], [3, 3]], shape = (9, 9), type = oper, isherm = True\n",
      "Qobj data =\n",
      "[[       0.                0.                0.                0.\n",
      "         0.                0.                0.                0.\n",
      "         0.        ]\n",
      " [       0.                0.                0.                0.\n",
      "         0.                0.                0.                0.\n",
      "         0.        ]\n",
      " [       0.                0.                0.                0.\n",
      "  15681684.81012756        0.                0.                0.\n",
      "         0.        ]\n",
      " [       0.                0.                0.                0.\n",
      "         0.                0.                0.                0.\n",
      "         0.        ]\n",
      " [       0.                0.         15681684.81012756        0.\n",
      "         0.                0.                0.                0.\n",
      "         0.        ]\n",
      " [       0.                0.                0.                0.\n",
      "         0.                0.                0.                0.\n",
      "         0.        ]\n",
      " [       0.                0.                0.                0.\n",
      "         0.                0.                0.                0.\n",
      "         0.        ]\n",
      " [       0.                0.                0.                0.\n",
      "         0.                0.                0.                0.\n",
      "         0.        ]\n",
      " [       0.                0.                0.                0.\n",
      "         0.                0.                0.                0.\n",
      "         0.        ]], 'cos(1384959727.7397344*t)'], [Quantum object: dims = [[3, 3], [3, 3]], shape = (9, 9), type = oper, isherm = True\n",
      "Qobj data =\n",
      "[[0.       +0.j         0.       +0.j         0.       +0.j\n",
      "  0.       +0.j         0.       +0.j         0.       +0.j\n",
      "  0.       +0.j         0.       +0.j         0.       +0.j        ]\n",
      " [0.       +0.j         0.       +0.j         0.       +0.j\n",
      "  0.       +0.j         0.       +0.j         0.       +0.j\n",
      "  0.       +0.j         0.       +0.j         0.       +0.j        ]\n",
      " [0.       +0.j         0.       +0.j         0.       +0.j\n",
      "  0.       +0.j         0.-15681684.81012756j 0.       +0.j\n",
      "  0.       +0.j         0.       +0.j         0.       +0.j        ]\n",
      " [0.       +0.j         0.       +0.j         0.       +0.j\n",
      "  0.       +0.j         0.       +0.j         0.       +0.j\n",
      "  0.       +0.j         0.       +0.j         0.       +0.j        ]\n",
      " [0.       +0.j         0.       +0.j         0.+15681684.81012756j\n",
      "  0.       +0.j         0.       +0.j         0.       +0.j\n",
      "  0.       +0.j         0.       +0.j         0.       +0.j        ]\n",
      " [0.       +0.j         0.       +0.j         0.       +0.j\n",
      "  0.       +0.j         0.       +0.j         0.       +0.j\n",
      "  0.       +0.j         0.       +0.j         0.       +0.j        ]\n",
      " [0.       +0.j         0.       +0.j         0.       +0.j\n",
      "  0.       +0.j         0.       +0.j         0.       +0.j\n",
      "  0.       +0.j         0.       +0.j         0.       +0.j        ]\n",
      " [0.       +0.j         0.       +0.j         0.       +0.j\n",
      "  0.       +0.j         0.       +0.j         0.       +0.j\n",
      "  0.       +0.j         0.       +0.j         0.       +0.j        ]\n",
      " [0.       +0.j         0.       +0.j         0.       +0.j\n",
      "  0.       +0.j         0.       +0.j         0.       +0.j\n",
      "  0.       +0.j         0.       +0.j         0.       +0.j        ]], 'sin(1384959727.7397344*t)'], [Quantum object: dims = [[3, 3], [3, 3]], shape = (9, 9), type = oper, isherm = True\n",
      "Qobj data =\n",
      "[[       0.                0.                0.                0.\n",
      "         0.                0.                0.                0.\n",
      "         0.        ]\n",
      " [       0.                0.                0.                0.\n",
      "         0.                0.                0.                0.\n",
      "         0.        ]\n",
      " [       0.                0.                0.                0.\n",
      "         0.                0.                0.                0.\n",
      "         0.        ]\n",
      " [       0.                0.                0.                0.\n",
      "         0.                0.                0.                0.\n",
      "         0.        ]\n",
      " [       0.                0.                0.                0.\n",
      "         0.                0.         15681684.81012756        0.\n",
      "         0.        ]\n",
      " [       0.                0.                0.                0.\n",
      "         0.                0.                0.                0.\n",
      "         0.        ]\n",
      " [       0.                0.                0.                0.\n",
      "  15681684.81012756        0.                0.                0.\n",
      "         0.        ]\n",
      " [       0.                0.                0.                0.\n",
      "         0.                0.                0.                0.\n",
      "         0.        ]\n",
      " [       0.                0.                0.                0.\n",
      "         0.                0.                0.                0.\n",
      "         0.        ]], 'cos(-2724813194.914638*t)'], [Quantum object: dims = [[3, 3], [3, 3]], shape = (9, 9), type = oper, isherm = True\n",
      "Qobj data =\n",
      "[[0.       +0.j         0.       +0.j         0.       +0.j\n",
      "  0.       +0.j         0.       +0.j         0.       +0.j\n",
      "  0.       +0.j         0.       +0.j         0.       +0.j        ]\n",
      " [0.       +0.j         0.       +0.j         0.       +0.j\n",
      "  0.       +0.j         0.       +0.j         0.       +0.j\n",
      "  0.       +0.j         0.       +0.j         0.       +0.j        ]\n",
      " [0.       +0.j         0.       +0.j         0.       +0.j\n",
      "  0.       +0.j         0.       +0.j         0.       +0.j\n",
      "  0.       +0.j         0.       +0.j         0.       +0.j        ]\n",
      " [0.       +0.j         0.       +0.j         0.       +0.j\n",
      "  0.       +0.j         0.       +0.j         0.       +0.j\n",
      "  0.       +0.j         0.       +0.j         0.       +0.j        ]\n",
      " [0.       +0.j         0.       +0.j         0.       +0.j\n",
      "  0.       +0.j         0.       +0.j         0.       +0.j\n",
      "  0.-15681684.81012756j 0.       +0.j         0.       +0.j        ]\n",
      " [0.       +0.j         0.       +0.j         0.       +0.j\n",
      "  0.       +0.j         0.       +0.j         0.       +0.j\n",
      "  0.       +0.j         0.       +0.j         0.       +0.j        ]\n",
      " [0.       +0.j         0.       +0.j         0.       +0.j\n",
      "  0.       +0.j         0.+15681684.81012756j 0.       +0.j\n",
      "  0.       +0.j         0.       +0.j         0.       +0.j        ]\n",
      " [0.       +0.j         0.       +0.j         0.       +0.j\n",
      "  0.       +0.j         0.       +0.j         0.       +0.j\n",
      "  0.       +0.j         0.       +0.j         0.       +0.j        ]\n",
      " [0.       +0.j         0.       +0.j         0.       +0.j\n",
      "  0.       +0.j         0.       +0.j         0.       +0.j\n",
      "  0.       +0.j         0.       +0.j         0.       +0.j        ]], 'sin(-2724813194.914638*t)'], [Quantum object: dims = [[3, 3], [3, 3]], shape = (9, 9), type = oper, isherm = True\n",
      "Qobj data =\n",
      "[[       0.                0.                0.                0.\n",
      "         0.                0.                0.                0.\n",
      "         0.        ]\n",
      " [       0.                0.                0.                0.\n",
      "         0.                0.                0.                0.\n",
      "         0.        ]\n",
      " [       0.                0.                0.                0.\n",
      "         0.                0.                0.                0.\n",
      "         0.        ]\n",
      " [       0.                0.                0.                0.\n",
      "         0.                0.                0.                0.\n",
      "         0.        ]\n",
      " [       0.                0.                0.                0.\n",
      "         0.                0.                0.                0.\n",
      "         0.        ]\n",
      " [       0.                0.                0.                0.\n",
      "         0.                0.                0.         22177251.33934255\n",
      "         0.        ]\n",
      " [       0.                0.                0.                0.\n",
      "         0.                0.                0.                0.\n",
      "         0.        ]\n",
      " [       0.                0.                0.                0.\n",
      "         0.         22177251.33934255        0.                0.\n",
      "         0.        ]\n",
      " [       0.                0.                0.                0.\n",
      "         0.                0.                0.                0.\n",
      "         0.        ]], 'cos(-724566662.4927175*t)'], [Quantum object: dims = [[3, 3], [3, 3]], shape = (9, 9), type = oper, isherm = True\n",
      "Qobj data =\n",
      "[[0.       +0.j         0.       +0.j         0.       +0.j\n",
      "  0.       +0.j         0.       +0.j         0.       +0.j\n",
      "  0.       +0.j         0.       +0.j         0.       +0.j        ]\n",
      " [0.       +0.j         0.       +0.j         0.       +0.j\n",
      "  0.       +0.j         0.       +0.j         0.       +0.j\n",
      "  0.       +0.j         0.       +0.j         0.       +0.j        ]\n",
      " [0.       +0.j         0.       +0.j         0.       +0.j\n",
      "  0.       +0.j         0.       +0.j         0.       +0.j\n",
      "  0.       +0.j         0.       +0.j         0.       +0.j        ]\n",
      " [0.       +0.j         0.       +0.j         0.       +0.j\n",
      "  0.       +0.j         0.       +0.j         0.       +0.j\n",
      "  0.       +0.j         0.       +0.j         0.       +0.j        ]\n",
      " [0.       +0.j         0.       +0.j         0.       +0.j\n",
      "  0.       +0.j         0.       +0.j         0.       +0.j\n",
      "  0.       +0.j         0.       +0.j         0.       +0.j        ]\n",
      " [0.       +0.j         0.       +0.j         0.       +0.j\n",
      "  0.       +0.j         0.       +0.j         0.       +0.j\n",
      "  0.       +0.j         0.-22177251.33934255j 0.       +0.j        ]\n",
      " [0.       +0.j         0.       +0.j         0.       +0.j\n",
      "  0.       +0.j         0.       +0.j         0.       +0.j\n",
      "  0.       +0.j         0.       +0.j         0.       +0.j        ]\n",
      " [0.       +0.j         0.       +0.j         0.       +0.j\n",
      "  0.       +0.j         0.       +0.j         0.+22177251.33934255j\n",
      "  0.       +0.j         0.       +0.j         0.       +0.j        ]\n",
      " [0.       +0.j         0.       +0.j         0.       +0.j\n",
      "  0.       +0.j         0.       +0.j         0.       +0.j\n",
      "  0.       +0.j         0.       +0.j         0.       +0.j        ]], 'sin(-724566662.4927175*t)']]\n"
     ]
    }
   ],
   "source": [
    "params = dict(params_orig)\n",
    "params['crosstalk'] = {(0, 1): 0.8, (1, 0): 0.6j}\n",
    "hgen = RWAHamiltonianGenerator((0, 1), params, num_levels=3)\n",
    "\n",
    "print('Hint', hgen.hint)"
   ]
  },
  {
   "cell_type": "markdown",
   "id": "fef6f3dc-7df7-465a-a5f2-48e5a1e407b8",
   "metadata": {},
   "source": [
    "## Check: Single qubit resonant pulse simulation"
   ]
  },
  {
   "cell_type": "code",
   "execution_count": 5,
   "id": "239965b6-1cc1-411c-a497-3a774bf8d0f4",
   "metadata": {},
   "outputs": [],
   "source": [
    "drive_def = {0: {'frequency': params['wq0'], 'amplitude': 0.1}}\n",
    "e_ops = [qtp.sigmaz()]\n",
    "result = run_pulse_sim(\n",
    "    qubits=0,\n",
    "    params=params_orig,\n",
    "    drive_def=drive_def,\n",
    "    tlist=(100, 1),\n",
    "    e_ops=e_ops)"
   ]
  },
  {
   "cell_type": "code",
   "execution_count": 6,
   "id": "03b5a22d-06ef-4328-8845-e77ed80c45eb",
   "metadata": {},
   "outputs": [
    {
     "data": {
      "text/plain": [
       "[<matplotlib.lines.Line2D at 0x7ff7ce5ada30>]"
      ]
     },
     "execution_count": 6,
     "metadata": {},
     "output_type": "execute_result"
    },
    {
     "data": {
      "image/png": "[encoded data removed]",
      "text/plain": [
       "<Figure size 432x288 with 1 Axes>"
      ]
     },
     "metadata": {
      "needs_background": "light"
     },
     "output_type": "display_data"
    }
   ],
   "source": [
    "plt.plot(result.times, result.expect[0])"
   ]
  },
  {
   "cell_type": "markdown",
   "id": "a2d08eae-ea42-4cb3-a861-ca5ddc336db3",
   "metadata": {},
   "source": [
    "## Check: Single qubit off-resonant pulse simulation"
   ]
  },
  {
   "cell_type": "code",
   "execution_count": 7,
   "id": "4f32d5fd-b754-4675-854c-f71814b73439",
   "metadata": {},
   "outputs": [
    {
     "data": {
      "text/plain": [
       "[[Quantum object: dims = [[2], [2]], shape = (2, 2), type = oper, isherm = False\n",
       "  Qobj data =\n",
       "  [[0. 0.]\n",
       "   [1. 0.]],\n",
       "  '(79426902.52200207+0j) * (cos(615286804.6821861 * t) - 1.j * sin(615286804.6821861 * t))'],\n",
       " [Quantum object: dims = [[2], [2]], shape = (2, 2), type = oper, isherm = False\n",
       "  Qobj data =\n",
       "  [[0. 1.]\n",
       "   [0. 0.]],\n",
       "  '(79426902.52200207-0j) * (cos(615286804.6821861 * t) + 1.j * sin(615286804.6821861 * t))']]"
      ]
     },
     "execution_count": 7,
     "metadata": {},
     "output_type": "execute_result"
    }
   ],
   "source": [
    "hgen = RWAHamiltonianGenerator(0, params_orig)\n",
    "hgen.add_drive(0, frequency=params['wq1'], amplitude=0.1)\n",
    "hamiltonian = hgen.generate()\n",
    "hamiltonian"
   ]
  },
  {
   "cell_type": "code",
   "execution_count": 8,
   "id": "4fcc8614-66d5-4e08-ac2d-3b02361e5e63",
   "metadata": {},
   "outputs": [
    {
     "data": {
      "text/plain": [
       "(0.0, 2.0423598423909115e-08)"
      ]
     },
     "execution_count": 8,
     "metadata": {},
     "output_type": "execute_result"
    }
   ],
   "source": [
    "tlist = hgen.make_tlist(100, 2)\n",
    "tlist[0], tlist[-1]"
   ]
  },
  {
   "cell_type": "code",
   "execution_count": 9,
   "id": "6e8e612b-292e-4127-a267-14112d11e444",
   "metadata": {},
   "outputs": [],
   "source": [
    "psi0 = (qtp.basis(2, 0) + qtp.basis(2, 1)) / np.sqrt(2.)\n",
    "e_ops = [qtp.sigmax()]\n",
    "result = qtp.sesolve(hamiltonian, psi0, tlist, e_ops=e_ops)"
   ]
  },
  {
   "cell_type": "code",
   "execution_count": 10,
   "id": "c758b9cf-adc6-4f89-9e42-b4f5b7cbf981",
   "metadata": {},
   "outputs": [
    {
     "data": {
      "text/plain": [
       "[<matplotlib.lines.Line2D at 0x7ff7ca741190>]"
      ]
     },
     "execution_count": 10,
     "metadata": {},
     "output_type": "execute_result"
    },
    {
     "data": {
      "image/png": "[encoded data removed]",
      "text/plain": [
       "<Figure size 432x288 with 1 Axes>"
      ]
     },
     "metadata": {
      "needs_background": "light"
     },
     "output_type": "display_data"
    }
   ],
   "source": [
    "plt.plot(result.times, result.expect[0])"
   ]
  },
  {
   "cell_type": "markdown",
   "id": "9a659d16-6317-40d1-b157-a45bc62aa297",
   "metadata": {},
   "source": [
    "## Check: Two qubit cross resonance, no crosstalk"
   ]
  },
  {
   "cell_type": "code",
   "execution_count": 11,
   "id": "8252f5c3-1c43-4e41-9b8b-336c131d91b6",
   "metadata": {},
   "outputs": [
    {
     "data": {
      "text/plain": [
       "[[Quantum object: dims = [[2, 2], [2, 2]], shape = (4, 4), type = oper, isherm = True\n",
       "  Qobj data =\n",
       "  [[       0.                0.                0.                0.        ]\n",
       "   [       0.                0.         11088625.66967127        0.        ]\n",
       "   [       0.         11088625.66967127        0.                0.        ]\n",
       "   [       0.                0.                0.                0.        ]],\n",
       "  'cos(-615286804.6821861*t)'],\n",
       " [Quantum object: dims = [[2, 2], [2, 2]], shape = (4, 4), type = oper, isherm = True\n",
       "  Qobj data =\n",
       "  [[0.       +0.j         0.       +0.j         0.       +0.j\n",
       "    0.       +0.j        ]\n",
       "   [0.       +0.j         0.       +0.j         0.-11088625.66967127j\n",
       "    0.       +0.j        ]\n",
       "   [0.       +0.j         0.+11088625.66967127j 0.       +0.j\n",
       "    0.       +0.j        ]\n",
       "   [0.       +0.j         0.       +0.j         0.       +0.j\n",
       "    0.       +0.j        ]],\n",
       "  'sin(-615286804.6821861*t)'],\n",
       " [Quantum object: dims = [[2, 2], [2, 2]], shape = (4, 4), type = oper, isherm = False\n",
       "  Qobj data =\n",
       "  [[0. 0. 0. 0.]\n",
       "   [0. 0. 0. 0.]\n",
       "   [1. 0. 0. 0.]\n",
       "   [0. 1. 0. 0.]],\n",
       "  '(47656141.51320124+0j) * (cos(615286804.6821861 * t) - 1.j * sin(615286804.6821861 * t))'],\n",
       " [Quantum object: dims = [[2, 2], [2, 2]], shape = (4, 4), type = oper, isherm = False\n",
       "  Qobj data =\n",
       "  [[0. 0. 1. 0.]\n",
       "   [0. 0. 0. 1.]\n",
       "   [0. 0. 0. 0.]\n",
       "   [0. 0. 0. 0.]],\n",
       "  '(47656141.51320124-0j) * (cos(615286804.6821861 * t) + 1.j * sin(615286804.6821861 * t))']]"
      ]
     },
     "execution_count": 11,
     "metadata": {},
     "output_type": "execute_result"
    }
   ],
   "source": [
    "params = dict(params_orig)\n",
    "\n",
    "hgen = RWAHamiltonianGenerator((0, 1), params)\n",
    "hgen.add_drive(0, frequency=params['wq1'], amplitude=0.06)\n",
    "hamiltonian = hgen.generate()\n",
    "hamiltonian"
   ]
  },
  {
   "cell_type": "code",
   "execution_count": 12,
   "id": "234c162c-83d1-46eb-af59-e131c1e33b84",
   "metadata": {},
   "outputs": [],
   "source": [
    "psi0_0 = qtp.tensor(qtp.basis(2, 0), qtp.basis(2, 0)) # |00>\n",
    "psi0_1 = qtp.tensor(qtp.basis(2, 1), qtp.basis(2, 0)) # |10>\n",
    "tlist = np.linspace(0., 2. * np.pi / params['wq1'] * 1000, 10000)\n",
    "e_ops = [qtp.tensor(qtp.qeye(2), qtp.sigmay()), qtp.tensor(qtp.qeye(2), qtp.sigmaz())] # IY, IZ\n",
    "result_0 = qtp.sesolve(hamiltonian, psi0_0, tlist, e_ops=e_ops)\n",
    "result_1 = qtp.sesolve(hamiltonian, psi0_1, tlist, e_ops=e_ops)"
   ]
  },
  {
   "cell_type": "code",
   "execution_count": 13,
   "id": "e127923f-5281-4a3c-a898-7c3bf689d294",
   "metadata": {},
   "outputs": [
    {
     "data": {
      "text/plain": [
       "[<matplotlib.lines.Line2D at 0x7ff7ca4b8940>]"
      ]
     },
     "execution_count": 13,
     "metadata": {},
     "output_type": "execute_result"
    },
    {
     "data": {
      "image/png": "[encoded data removed]",
      "text/plain": [
       "<Figure size 432x288 with 1 Axes>"
      ]
     },
     "metadata": {
      "needs_background": "light"
     },
     "output_type": "display_data"
    }
   ],
   "source": [
    "# Cross resonance drive induces a ZX term -> <IY> moves from 0 to opposite directions\n",
    "plt.plot(tlist, result_0.expect[0])\n",
    "plt.plot(tlist, result_1.expect[0])"
   ]
  },
  {
   "cell_type": "code",
   "execution_count": 14,
   "id": "6f79f1e1-af2c-42c8-b5b9-76fd18c49649",
   "metadata": {},
   "outputs": [
    {
     "data": {
      "text/plain": [
       "[<matplotlib.lines.Line2D at 0x7ff934d307c0>]"
      ]
     },
     "execution_count": 14,
     "metadata": {},
     "output_type": "execute_result"
    },
    {
     "data": {
      "image/png": "[encoded data removed]",
      "text/plain": [
       "<Figure size 432x288 with 1 Axes>"
      ]
     },
     "metadata": {
      "needs_background": "light"
     },
     "output_type": "display_data"
    }
   ],
   "source": [
    "# <IZ> moves from 1 in the same direction\n",
    "plt.plot(tlist, result_0.expect[1])\n",
    "plt.plot(tlist, result_1.expect[1])"
   ]
  },
  {
   "cell_type": "markdown",
   "id": "1be11584-d00e-4960-9b1b-963cf1a48455",
   "metadata": {},
   "source": [
    "## Check: Two qubit cross resonance with crosstalk"
   ]
  },
  {
   "cell_type": "code",
   "execution_count": 15,
   "id": "4723c1d2-ed17-42c1-b78b-8230ba2e5160",
   "metadata": {},
   "outputs": [],
   "source": [
    "hamiltonian_noct = hamiltonian\n",
    "\n",
    "params = dict(params_orig)\n",
    "params['crosstalk'] = {(0, 1): 0.5 * np.exp(1.j * np.pi / 4.)}\n",
    "\n",
    "hgen = RWAHamiltonianGenerator((0, 1), params)\n",
    "hgen.add_drive(0, frequency=params['wq1'], amplitude=0.06)\n",
    "hamiltonian_withct = hgen.generate()"
   ]
  },
  {
   "cell_type": "code",
   "execution_count": 16,
   "id": "e7469e3b-0c9a-4896-8eda-434326cb2b4a",
   "metadata": {},
   "outputs": [
    {
     "name": "stdout",
     "output_type": "stream",
     "text": [
      "Number of terms: 4 5\n",
      "Static term (IX) only in with-ct: Quantum object: dims = [[2, 2], [2, 2]], shape = (4, 4), type = oper, isherm = True\n",
      "Qobj data =\n",
      "[[       0.               +0.j\n",
      "  16848990.41458517-16848990.41458516j\n",
      "         0.               +0.j\n",
      "         0.               +0.j        ]\n",
      " [16848990.41458517+16848990.41458516j\n",
      "         0.               +0.j\n",
      "         0.               +0.j\n",
      "         0.               +0.j        ]\n",
      " [       0.               +0.j\n",
      "         0.               +0.j\n",
      "         0.               +0.j\n",
      "  16848990.41458517-16848990.41458516j]\n",
      " [       0.               +0.j\n",
      "         0.               +0.j\n",
      "  16848990.41458517+16848990.41458516j\n",
      "         0.               +0.j        ]]\n",
      "(0.35355339059327373-0.3535533905932737j) (0.3535533905932738+0.35355339059327373j)\n"
     ]
    }
   ],
   "source": [
    "# Comparing no-ct and with-ct Hamiltonians\n",
    "print('Number of terms:', len(hamiltonian_noct), len(hamiltonian_withct))\n",
    "print('Static term (IX) only in with-ct:', hamiltonian_withct[0])\n",
    "print(hamiltonian_withct[0].full()[0, 1] / (params['omegad0'] / 2. * 0.06), 0.5 * np.exp(1.j * np.pi / 4.))"
   ]
  },
  {
   "cell_type": "code",
   "execution_count": 17,
   "id": "853853c3-2c39-4cd9-a747-c53521440e62",
   "metadata": {},
   "outputs": [
    {
     "name": "stdout",
     "output_type": "stream",
     "text": [
      "Interaction term differences:\n",
      "[[0.+0.j 0.+0.j 0.+0.j 0.+0.j]\n",
      " [0.+0.j 0.+0.j 0.+0.j 0.+0.j]\n",
      " [0.+0.j 0.+0.j 0.+0.j 0.+0.j]\n",
      " [0.+0.j 0.+0.j 0.+0.j 0.+0.j]]\n",
      "cos(-615286804.6821861*t) cos(-615286804.6821861*t)\n",
      "[[0.+0.j 0.+0.j 0.+0.j 0.+0.j]\n",
      " [0.+0.j 0.+0.j 0.+0.j 0.+0.j]\n",
      " [0.+0.j 0.+0.j 0.+0.j 0.+0.j]\n",
      " [0.+0.j 0.+0.j 0.+0.j 0.+0.j]]\n",
      "sin(-615286804.6821861*t) sin(-615286804.6821861*t)\n"
     ]
    }
   ],
   "source": [
    "print('Interaction term differences:')\n",
    "print(hamiltonian_noct[0][0].full() - hamiltonian_withct[1][0].full())\n",
    "print(hamiltonian_noct[0][1], hamiltonian_withct[1][1])\n",
    "print(hamiltonian_noct[1][0].full() - hamiltonian_withct[2][0].full())\n",
    "print(hamiltonian_noct[1][1], hamiltonian_withct[2][1])"
   ]
  },
  {
   "cell_type": "code",
   "execution_count": 18,
   "id": "d15c0ce6-4476-4460-9809-ec2688e80657",
   "metadata": {},
   "outputs": [
    {
     "name": "stdout",
     "output_type": "stream",
     "text": [
      "Drive term differences:\n",
      "[[0.+0.j 0.+0.j 0.+0.j 0.+0.j]\n",
      " [0.+0.j 0.+0.j 0.+0.j 0.+0.j]\n",
      " [0.+0.j 0.+0.j 0.+0.j 0.+0.j]\n",
      " [0.+0.j 0.+0.j 0.+0.j 0.+0.j]]\n",
      "(47656141.51320124+0j) * (cos(615286804.6821861 * t) - 1.j * sin(615286804.6821861 * t)) (47656141.51320124+0j) * (cos(615286804.6821861 * t) - 1.j * sin(615286804.6821861 * t))\n",
      "[[0.+0.j 0.+0.j 0.+0.j 0.+0.j]\n",
      " [0.+0.j 0.+0.j 0.+0.j 0.+0.j]\n",
      " [0.+0.j 0.+0.j 0.+0.j 0.+0.j]\n",
      " [0.+0.j 0.+0.j 0.+0.j 0.+0.j]]\n",
      "(47656141.51320124-0j) * (cos(615286804.6821861 * t) + 1.j * sin(615286804.6821861 * t)) (47656141.51320124-0j) * (cos(615286804.6821861 * t) + 1.j * sin(615286804.6821861 * t))\n"
     ]
    }
   ],
   "source": [
    "print('Drive term differences:')\n",
    "print(hamiltonian_noct[2][0].full() - hamiltonian_withct[3][0].full())\n",
    "print(hamiltonian_noct[2][1], hamiltonian_withct[3][1])\n",
    "print(hamiltonian_noct[3][0].full() - hamiltonian_withct[4][0].full())\n",
    "print(hamiltonian_noct[3][1], hamiltonian_withct[4][1])"
   ]
  },
  {
   "cell_type": "code",
   "execution_count": 19,
   "id": "4b3d1acc-4135-47f1-98b1-c0a10fec8f5a",
   "metadata": {},
   "outputs": [],
   "source": [
    "hamiltonian = hamiltonian_withct\n",
    "\n",
    "psi0_0 = qtp.tensor(qtp.basis(2, 0), qtp.basis(2, 0)) # |00>\n",
    "psi0_1 = qtp.tensor(qtp.basis(2, 1), qtp.basis(2, 0)) # |10>\n",
    "tlist = np.linspace(0., 2. * np.pi / params['wq1'] * 1000, 10000)\n",
    "e_ops = [qtp.tensor(qtp.qeye(2), qtp.sigmay()), qtp.tensor(qtp.qeye(2), qtp.sigmaz())] # IY, IZ\n",
    "result_0 = qtp.sesolve(hamiltonian, psi0_0, tlist, e_ops=e_ops)\n",
    "result_1 = qtp.sesolve(hamiltonian, psi0_1, tlist, e_ops=e_ops)"
   ]
  },
  {
   "cell_type": "code",
   "execution_count": 20,
   "id": "a9365d23-d3a7-44c7-8bf2-a2efe57cee01",
   "metadata": {},
   "outputs": [
    {
     "data": {
      "text/plain": [
       "[<matplotlib.lines.Line2D at 0x7ff93489d160>]"
      ]
     },
     "execution_count": 20,
     "metadata": {},
     "output_type": "execute_result"
    },
    {
     "data": {
      "image/png": "[encoded data removed]",
      "text/plain": [
       "<Figure size 432x288 with 1 Axes>"
      ]
     },
     "metadata": {
      "needs_background": "light"
     },
     "output_type": "display_data"
    }
   ],
   "source": [
    "plt.plot(tlist, result_0.expect[0])\n",
    "plt.plot(tlist, result_1.expect[0])"
   ]
  },
  {
   "cell_type": "code",
   "execution_count": 21,
   "id": "fe9b8af7-e9ad-46e4-8d94-705a10a514cb",
   "metadata": {},
   "outputs": [
    {
     "data": {
      "text/plain": [
       "[<matplotlib.lines.Line2D at 0x7ff9194f6820>]"
      ]
     },
     "execution_count": 21,
     "metadata": {},
     "output_type": "execute_result"
    },
    {
     "data": {
      "image/png": "[encoded data removed]",
      "text/plain": [
       "<Figure size 432x288 with 1 Axes>"
      ]
     },
     "metadata": {
      "needs_background": "light"
     },
     "output_type": "display_data"
    }
   ],
   "source": [
    "plt.plot(tlist, result_0.expect[1])\n",
    "plt.plot(tlist, result_1.expect[1])"
   ]
  },
  {
   "cell_type": "markdown",
   "id": "59236839-3331-44b6-9abb-2f634209e6db",
   "metadata": {},
   "source": [
    "## Check: Gell-Mann matrices"
   ]
  },
  {
   "cell_type": "code",
   "execution_count": 22,
   "id": "eea699b2-ff45-4790-83c8-74b9ab9adbb4",
   "metadata": {},
   "outputs": [
    {
     "data": {
      "text/plain": [
       "array([[[ 0.81649658+0.j,  0.        +0.j,  0.        +0.j,\n",
       "          0.        +0.j],\n",
       "        [ 0.        +0.j,  0.81649658+0.j,  0.        +0.j,\n",
       "          0.        +0.j],\n",
       "        [ 0.        +0.j,  0.        +0.j,  0.81649658+0.j,\n",
       "          0.        +0.j],\n",
       "        [ 0.        +0.j,  0.        +0.j,  0.        +0.j,\n",
       "          0.        +0.j]],\n",
       "\n",
       "       [[ 0.        +0.j,  1.        +0.j,  0.        +0.j,\n",
       "          0.        +0.j],\n",
       "        [ 1.        +0.j,  0.        +0.j,  0.        +0.j,\n",
       "          0.        +0.j],\n",
       "        [ 0.        +0.j,  0.        +0.j,  0.        +0.j,\n",
       "          0.        +0.j],\n",
       "        [ 0.        +0.j,  0.        +0.j,  0.        +0.j,\n",
       "          0.        +0.j]],\n",
       "\n",
       "       [[ 0.        +0.j,  0.        -1.j,  0.        +0.j,\n",
       "          0.        +0.j],\n",
       "        [ 0.        +1.j,  0.        +0.j,  0.        +0.j,\n",
       "          0.        +0.j],\n",
       "        [ 0.        +0.j,  0.        +0.j,  0.        +0.j,\n",
       "          0.        +0.j],\n",
       "        [ 0.        +0.j,  0.        +0.j,  0.        +0.j,\n",
       "          0.        +0.j]],\n",
       "\n",
       "       [[ 1.        +0.j,  0.        +0.j,  0.        +0.j,\n",
       "          0.        +0.j],\n",
       "        [ 0.        +0.j, -1.        +0.j,  0.        +0.j,\n",
       "          0.        +0.j],\n",
       "        [ 0.        +0.j,  0.        +0.j,  0.        +0.j,\n",
       "          0.        +0.j],\n",
       "        [ 0.        +0.j,  0.        +0.j,  0.        +0.j,\n",
       "          0.        +0.j]],\n",
       "\n",
       "       [[ 0.        +0.j,  0.        +0.j,  1.        +0.j,\n",
       "          0.        +0.j],\n",
       "        [ 0.        +0.j,  0.        +0.j,  0.        +0.j,\n",
       "          0.        +0.j],\n",
       "        [ 1.        +0.j,  0.        +0.j,  0.        +0.j,\n",
       "          0.        +0.j],\n",
       "        [ 0.        +0.j,  0.        +0.j,  0.        +0.j,\n",
       "          0.        +0.j]],\n",
       "\n",
       "       [[ 0.        +0.j,  0.        +0.j,  0.        -1.j,\n",
       "          0.        +0.j],\n",
       "        [ 0.        +0.j,  0.        +0.j,  0.        +0.j,\n",
       "          0.        +0.j],\n",
       "        [ 0.        +1.j,  0.        +0.j,  0.        +0.j,\n",
       "          0.        +0.j],\n",
       "        [ 0.        +0.j,  0.        +0.j,  0.        +0.j,\n",
       "          0.        +0.j]],\n",
       "\n",
       "       [[ 0.        +0.j,  0.        +0.j,  0.        +0.j,\n",
       "          0.        +0.j],\n",
       "        [ 0.        +0.j,  0.        +0.j,  1.        +0.j,\n",
       "          0.        +0.j],\n",
       "        [ 0.        +0.j,  1.        +0.j,  0.        +0.j,\n",
       "          0.        +0.j],\n",
       "        [ 0.        +0.j,  0.        +0.j,  0.        +0.j,\n",
       "          0.        +0.j]],\n",
       "\n",
       "       [[ 0.        +0.j,  0.        +0.j,  0.        +0.j,\n",
       "          0.        +0.j],\n",
       "        [ 0.        +0.j,  0.        +0.j,  0.        -1.j,\n",
       "          0.        +0.j],\n",
       "        [ 0.        +0.j,  0.        +1.j,  0.        +0.j,\n",
       "          0.        +0.j],\n",
       "        [ 0.        +0.j,  0.        +0.j,  0.        +0.j,\n",
       "          0.        +0.j]],\n",
       "\n",
       "       [[ 0.57735027+0.j,  0.        +0.j,  0.        +0.j,\n",
       "          0.        +0.j],\n",
       "        [ 0.        +0.j,  0.57735027+0.j,  0.        +0.j,\n",
       "          0.        +0.j],\n",
       "        [ 0.        +0.j,  0.        +0.j, -1.15470054+0.j,\n",
       "          0.        +0.j],\n",
       "        [ 0.        +0.j,  0.        +0.j,  0.        +0.j,\n",
       "          0.        +0.j]]])"
      ]
     },
     "execution_count": 22,
     "metadata": {},
     "output_type": "execute_result"
    }
   ],
   "source": [
    "gmmat = make_generalized_paulis(3, 4)\n",
    "gmmat"
   ]
  },
  {
   "cell_type": "code",
   "execution_count": 23,
   "id": "6c653319-bbcb-46b4-9e03-ffed9ea6e597",
   "metadata": {},
   "outputs": [
    {
     "data": {
      "text/plain": [
       "(9, 9)"
      ]
     },
     "execution_count": 23,
     "metadata": {},
     "output_type": "execute_result"
    }
   ],
   "source": [
    "inner_prod = np.tensordot(gmmat, gmmat, ((1, 2), (2, 1)))\n",
    "inner_prod.shape"
   ]
  },
  {
   "cell_type": "code",
   "execution_count": 24,
   "id": "4df425bc-9abf-429f-9709-1a34a6635a6f",
   "metadata": {},
   "outputs": [
    {
     "data": {
      "text/plain": [
       "False"
      ]
     },
     "execution_count": 24,
     "metadata": {},
     "output_type": "execute_result"
    }
   ],
   "source": [
    "np.any(np.abs(inner_prod - np.eye(9, dtype=np.complex128) * 2.) > 1.e-10)"
   ]
  },
  {
   "cell_type": "markdown",
   "id": "bafc9275-6978-42db-abea-2dab5b628213",
   "metadata": {},
   "source": [
    "## Check: two-qutrit bases"
   ]
  },
  {
   "cell_type": "code",
   "execution_count": 25,
   "id": "a3a168d3-138e-46a6-a682-ba748bc6adb1",
   "metadata": {},
   "outputs": [
    {
     "data": {
      "text/plain": [
       "(9, 9, 16, 16)"
      ]
     },
     "execution_count": 25,
     "metadata": {},
     "output_type": "execute_result"
    }
   ],
   "source": [
    "basis = make_prod_basis(gmmat, 2)\n",
    "basis.shape"
   ]
  },
  {
   "cell_type": "code",
   "execution_count": 26,
   "id": "aedbba41-99e5-46f2-9d4b-379e64aafb1c",
   "metadata": {},
   "outputs": [
    {
     "data": {
      "text/plain": [
       "(81, 81)"
      ]
     },
     "execution_count": 26,
     "metadata": {},
     "output_type": "execute_result"
    }
   ],
   "source": [
    "basis_flat = basis.reshape(-1, *basis.shape[-2:])\n",
    "inner_prod = np.tensordot(basis_flat, basis_flat, ((-2, -1), (-1, -2)))\n",
    "inner_prod.shape"
   ]
  },
  {
   "cell_type": "code",
   "execution_count": 27,
   "id": "1010e468-b1df-4b1c-8b01-2d0c4883e707",
   "metadata": {},
   "outputs": [
    {
     "data": {
      "text/plain": [
       "False"
      ]
     },
     "execution_count": 27,
     "metadata": {},
     "output_type": "execute_result"
    }
   ],
   "source": [
    "np.any(np.abs(inner_prod - np.eye(inner_prod.shape[0], dtype=np.complex128) * 4.) > 1.e-10)"
   ]
  },
  {
   "cell_type": "markdown",
   "id": "9b16434b-bc82-4c31-9f9c-8ee0e8b5bae7",
   "metadata": {},
   "source": [
    "## Check: Heff for qubit 0 off-resonant drive"
   ]
  },
  {
   "cell_type": "code",
   "execution_count": 28,
   "id": "0a9f8cd5-3d43-4feb-aba7-c73a281c4abd",
   "metadata": {},
   "outputs": [
    {
     "name": "stderr",
     "output_type": "stream",
     "text": [
      "INFO:qudit_sim.find_heff:Running a square pulse simulation for 100 cycles\n",
      "INFO:qudit_sim.pulse_sim:Instantiated a Hamiltonian generator for 1 qubits and 2 levels\n",
      "INFO:qudit_sim.pulse_sim:Number of interaction terms: 0\n",
      "INFO:qudit_sim.pulse_sim:Adding a drive with frequency 32218187482.363426 and envelope 0.06\n",
      "INFO:qudit_sim.pulse_sim:Number of drive terms: 2\n",
      "INFO:qudit_sim.pulse_sim:Using 1000 time points from 0.000e+00 to 1.021e-06\n",
      "INFO:qudit_sim.pulse_sim:Hamiltonian with 2 terms generated. Starting simulation..\n",
      "INFO:qudit_sim.pulse_sim:Done in 4.883484 seconds.\n",
      "INFO:qudit_sim.pulse_sim:Saving the simulation result to test.qu\n",
      "INFO:qudit_sim.heff.fidelity_maximization:Starting maximization loop..\n",
      "INFO:qudit_sim.heff.fidelity_maximization:Done after 142 steps.\n"
     ]
    },
    {
     "data": {
      "text/plain": [
       "array([      0.        ,  282599.8125    ,  -27556.09960938,\n",
       "       3658773.25      ])"
      ]
     },
     "execution_count": 28,
     "metadata": {},
     "output_type": "execute_result"
    }
   ],
   "source": [
    "drive_def = {0: {'frequency': params['wq1'], 'amplitude': 0.06}}\n",
    "\n",
    "coeffs = find_heff(\n",
    "    qubits=0,\n",
    "    params=params_orig,\n",
    "    drive_def=drive_def,\n",
    "    num_sim_levels=2,\n",
    "    comp_dim=2,\n",
    "    save_result_to='test',\n",
    "    log_level=logging.INFO)\n",
    "\n",
    "coeffs"
   ]
  },
  {
   "cell_type": "code",
   "execution_count": 29,
   "id": "69696330-cb6d-40b7-b6e1-a1ddce614689",
   "metadata": {},
   "outputs": [
    {
     "data": {
      "text/plain": [
       "(1000, 2, 2)"
      ]
     },
     "execution_count": 29,
     "metadata": {},
     "output_type": "execute_result"
    }
   ],
   "source": [
    "with h5py.File('test.h5', 'r') as source:\n",
    "    time_evolution = source['time_evolution'][:]\n",
    "    tlist = source['tlist'][:]\n",
    "\n",
    "time_evolution.shape"
   ]
  },
  {
   "cell_type": "code",
   "execution_count": 30,
   "id": "724ecf22-2147-4a50-89bd-f4bb9a734ed2",
   "metadata": {},
   "outputs": [],
   "source": [
    "generators = matrix_ufunc(lambda u: -np.angle(u), time_evolution)\n",
    "coeffs_t = extract_coefficients(generators, 2, 1)"
   ]
  },
  {
   "cell_type": "code",
   "execution_count": 31,
   "id": "b1fdbb58-b49e-49f8-9caa-31fe04c562ea",
   "metadata": {},
   "outputs": [
    {
     "data": {
      "text/plain": [
       "<matplotlib.legend.Legend at 0x7ff85f248cd0>"
      ]
     },
     "execution_count": 31,
     "metadata": {},
     "output_type": "execute_result"
    },
    {
     "data": {
      "image/png": "[encoded data removed]",
      "text/plain": [
       "<Figure size 432x288 with 1 Axes>"
      ]
     },
     "metadata": {
      "needs_background": "light"
     },
     "output_type": "display_data"
    }
   ],
   "source": [
    "plt.plot(tlist, coeffs_t[:, 1], label='X')\n",
    "plt.plot(tlist, coeffs_t[:, 2], label='Y')\n",
    "plt.plot(tlist, coeffs_t[:, 3], label='Z')\n",
    "plt.legend()"
   ]
  },
  {
   "cell_type": "markdown",
   "id": "3615ea5f-8678-4bb3-8df0-942111ecde6d",
   "metadata": {},
   "source": [
    "## Check: Heff for cross resonance"
   ]
  },
  {
   "cell_type": "code",
   "execution_count": 32,
   "id": "91cf98ac-8ab6-4505-a753-940389abcce5",
   "metadata": {},
   "outputs": [
    {
     "name": "stderr",
     "output_type": "stream",
     "text": [
      "INFO:qudit_sim.find_heff:Running a square pulse simulation for 100 cycles\n",
      "INFO:qudit_sim.pulse_sim:Instantiated a Hamiltonian generator for 2 qubits and 2 levels\n",
      "INFO:qudit_sim.pulse_sim:Number of interaction terms: 2\n",
      "INFO:qudit_sim.pulse_sim:Adding a drive with frequency 32218187482.363426 and envelope 0.01\n",
      "INFO:qudit_sim.pulse_sim:Number of drive terms: 2\n",
      "INFO:qudit_sim.pulse_sim:Using 1000 time points from 0.000e+00 to 1.021e-06\n",
      "INFO:qudit_sim.pulse_sim:Hamiltonian with 5 terms generated. Starting simulation..\n",
      "INFO:qudit_sim.pulse_sim:Done in 4.888409 seconds.\n",
      "INFO:qudit_sim.pulse_sim:Saving the simulation result to test_cr.qu\n",
      "INFO:qudit_sim.heff.fidelity_maximization:Starting maximization loop..\n",
      "INFO:qudit_sim.heff.fidelity_maximization:Done after 77 steps.\n"
     ]
    },
    {
     "data": {
      "text/plain": [
       "array([[ 0.00000000e+00,  8.98462500e+06, -8.98487700e+06,\n",
       "        -1.98848969e+05],\n",
       "       [ 7.69548633e+03, -1.85096375e+03,  1.62795020e+04,\n",
       "         7.64502891e+04],\n",
       "       [-3.75118125e+04, -2.08707168e+04,  1.04073857e+04,\n",
       "        -8.21936719e+04],\n",
       "       [ 4.05081750e+05,  2.87278781e+05,  4.05401855e+02,\n",
       "        -3.30956909e+03]])"
      ]
     },
     "execution_count": 32,
     "metadata": {},
     "output_type": "execute_result"
    }
   ],
   "source": [
    "params = dict(params_orig)\n",
    "params['crosstalk'] = {(0, 1): 0.8 * np.exp(-np.pi / 4. * 1.j)}\n",
    "drive_def = {0: {'frequency': params['wq1'], 'amplitude': 0.01}}\n",
    "\n",
    "coeffs = find_heff(\n",
    "    qubits=(0, 1),\n",
    "    params=params,\n",
    "    drive_def=drive_def,\n",
    "    num_sim_levels=2,\n",
    "    comp_dim=2,\n",
    "    save_result_to='test_cr',\n",
    "    log_level=logging.INFO)\n",
    "\n",
    "coeffs"
   ]
  },
  {
   "cell_type": "code",
   "execution_count": 33,
   "id": "dc137a63-5e22-41b3-91a6-0d2b1b56637b",
   "metadata": {},
   "outputs": [
    {
     "data": {
      "text/plain": [
       "(1000, 4, 4)"
      ]
     },
     "execution_count": 33,
     "metadata": {},
     "output_type": "execute_result"
    }
   ],
   "source": [
    "with h5py.File('test_cr.h5', 'r') as source:\n",
    "    time_evolution = source['time_evolution'][:]\n",
    "    tlist = source['tlist'][:]\n",
    "\n",
    "time_evolution.shape"
   ]
  },
  {
   "cell_type": "code",
   "execution_count": 34,
   "id": "07ccd080-bd75-47fb-8044-5de0305bd4e5",
   "metadata": {},
   "outputs": [],
   "source": [
    "generators = matrix_ufunc(lambda u: -np.angle(u), time_evolution)\n",
    "coeffs_t = extract_coefficients(generators, 2, 2)"
   ]
  },
  {
   "cell_type": "code",
   "execution_count": 35,
   "id": "0f142e3e-9865-46ae-befd-e67215659dff",
   "metadata": {},
   "outputs": [
    {
     "data": {
      "text/plain": [
       "<matplotlib.legend.Legend at 0x7ff86346e610>"
      ]
     },
     "execution_count": 35,
     "metadata": {},
     "output_type": "execute_result"
    },
    {
     "data": {
      "image/png": "[encoded data removed]",
      "text/plain": [
       "<Figure size 432x288 with 1 Axes>"
      ]
     },
     "metadata": {
      "needs_background": "light"
     },
     "output_type": "display_data"
    }
   ],
   "source": [
    "plt.plot(tlist, coeffs_t[:, 0, 0], label='II')\n",
    "plt.plot(tlist, coeffs_t[:, 0, 1], label='IX')\n",
    "plt.plot(tlist, coeffs_t[:, 0, 2], label='IY')\n",
    "plt.plot(tlist, coeffs_t[:, 0, 3], label='IZ')\n",
    "plt.legend()"
   ]
  },
  {
   "cell_type": "code",
   "execution_count": 36,
   "id": "afc03981-3c1d-4af5-bd64-957c9da52285",
   "metadata": {},
   "outputs": [
    {
     "data": {
      "text/plain": [
       "<matplotlib.legend.Legend at 0x7ff863456880>"
      ]
     },
     "execution_count": 36,
     "metadata": {},
     "output_type": "execute_result"
    },
    {
     "data": {
      "image/png": "[encoded data removed]",
      "text/plain": [
       "<Figure size 432x288 with 1 Axes>"
      ]
     },
     "metadata": {
      "needs_background": "light"
     },
     "output_type": "display_data"
    }
   ],
   "source": [
    "plt.plot(tlist, coeffs_t[:, 1, 0], label='XI')\n",
    "plt.plot(tlist, coeffs_t[:, 1, 1], label='XX')\n",
    "plt.plot(tlist, coeffs_t[:, 1, 2], label='XY')\n",
    "plt.plot(tlist, coeffs_t[:, 1, 3], label='XZ')\n",
    "plt.legend()"
   ]
  },
  {
   "cell_type": "code",
   "execution_count": 37,
   "id": "7a0360bb-9118-4032-88d2-ae14b301dfce",
   "metadata": {},
   "outputs": [
    {
     "data": {
      "text/plain": [
       "<matplotlib.legend.Legend at 0x7ff7caa5fca0>"
      ]
     },
     "execution_count": 37,
     "metadata": {},
     "output_type": "execute_result"
    },
    {
     "data": {
      "image/png": "[encoded data removed]",
      "text/plain": [
       "<Figure size 432x288 with 1 Axes>"
      ]
     },
     "metadata": {
      "needs_background": "light"
     },
     "output_type": "display_data"
    }
   ],
   "source": [
    "plt.plot(tlist, coeffs_t[:, 2, 0], label='YI')\n",
    "plt.plot(tlist, coeffs_t[:, 2, 1], label='YX')\n",
    "plt.plot(tlist, coeffs_t[:, 2, 2], label='YY')\n",
    "plt.plot(tlist, coeffs_t[:, 2, 3], label='YZ')\n",
    "plt.legend()"
   ]
  },
  {
   "cell_type": "code",
   "execution_count": 38,
   "id": "c033a4d1-72bf-42db-b171-aeec438677a7",
   "metadata": {},
   "outputs": [
    {
     "data": {
      "text/plain": [
       "<matplotlib.legend.Legend at 0x7ff85ee11640>"
      ]
     },
     "execution_count": 38,
     "metadata": {},
     "output_type": "execute_result"
    },
    {
     "data": {
      "image/png": "[encoded data removed]",
      "text/plain": [
       "<Figure size 432x288 with 1 Axes>"
      ]
     },
     "metadata": {
      "needs_background": "light"
     },
     "output_type": "display_data"
    }
   ],
   "source": [
    "plt.plot(tlist, coeffs_t[:, 3, 0], label='ZI')\n",
    "plt.plot(tlist, coeffs_t[:, 3, 1], label='ZX')\n",
    "plt.plot(tlist, coeffs_t[:, 3, 2], label='ZY')\n",
    "plt.plot(tlist, coeffs_t[:, 3, 3], label='ZZ')\n",
    "plt.legend()"
   ]
  },
  {
   "cell_type": "code",
   "execution_count": null,
   "id": "24e79dd4-4ae5-4059-b3c4-1d8696370891",
   "metadata": {},
   "outputs": [],
   "source": []
  }
 ],
 "metadata": {
  "kernelspec": {
   "display_name": "Python 3 (ipykernel)",
   "language": "python",
   "name": "python3"
  },
  "language_info": {
   "codemirror_mode": {
    "name": "ipython",
    "version": 3
   },
   "file_extension": ".py",
   "mimetype": "text/x-python",
   "name": "python",
   "nbconvert_exporter": "python",
   "pygments_lexer": "ipython3",
   "version": "3.8.10"
  }
 },
 "nbformat": 4,
 "nbformat_minor": 5
}
