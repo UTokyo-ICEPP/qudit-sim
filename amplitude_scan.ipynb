{
 "cells": [
  {
   "cell_type": "markdown",
   "id": "ef443f91-e27e-4f72-8183-efac24d9accb",
   "metadata": {},
   "source": [
    "# Single-qubit resonant drive amplitude scan"
   ]
  },
  {
   "cell_type": "code",
   "execution_count": 1,
   "id": "f3f8de5f-cec6-46e4-b2ca-684d5a575c56",
   "metadata": {},
   "outputs": [],
   "source": [
    "import os\n",
    "import pprint\n",
    "import logging\n",
    "import socket\n",
    "if socket.gethostname() == 'iutgpu05.iut.icepp.s.u-tokyo.ac.jp':\n",
    "    os.environ['CUDA_VISIBLE_DEVICES'] = '0,1'\n",
    "import numpy as np\n",
    "import h5py\n",
    "import qutip as qtp\n",
    "import matplotlib.pyplot as plt\n",
    "from matplotlib.markers import MarkerStyle\n",
    "from IPython.display import Math\n",
    "\n",
    "from qiskit import IBMQ, pulse\n",
    "from qiskit.tools.monitor import job_monitor\n",
    "\n",
    "from qudit_sim import find_heff, parallel_map, run_pulse_sim, Gaussian, Sequence\n",
    "from qudit_sim.heff import heff_expr, plot_amplitude_scan\n",
    "\n",
    "twopi = np.pi * 2."
   ]
  },
  {
   "cell_type": "markdown",
   "id": "2e142db2-7229-4003-80d6-2b757c9c73c4",
   "metadata": {},
   "source": [
    "## Study general $H_{\\mathrm{eff}}$ behavior with a dummy parameter set"
   ]
  },
  {
   "cell_type": "code",
   "execution_count": 2,
   "id": "6992c83b-40e6-49c4-bc79-981565f270f4",
   "metadata": {},
   "outputs": [],
   "source": [
    "params = {\n",
    "    'wq0': 30.e+9,\n",
    "    'wq1': 32.e+9,\n",
    "    'delta0': -2.e+9,\n",
    "    'delta1': -1.8e+9,\n",
    "    'jq0q1': 10.e+6,\n",
    "    'omegad0': 1.5e+9,\n",
    "    'omegad1': 1.2e+9\n",
    "}"
   ]
  },
  {
   "cell_type": "markdown",
   "id": "d810e720-b09a-4d2a-a1e3-53021d1c4f5b",
   "metadata": {},
   "source": [
    "## First, confirming the previous finding that num_sim_levels=3 and 4 give similar results for comp_dim=2"
   ]
  },
  {
   "cell_type": "code",
   "execution_count": 3,
   "id": "abe5600b-b4ad-4b59-963c-f94f64d13f53",
   "metadata": {},
   "outputs": [
    {
     "name": "stderr",
     "output_type": "stream",
     "text": [
      "INFO:qudit_sim.find_heff:Running a square pulse simulation for 100 cycles\n",
      "INFO:qudit_sim.pulse_sim:Instantiated a Hamiltonian generator for 1 qubits and 3 levels\n",
      "INFO:qudit_sim.pulse_sim:Number of interaction terms: 0\n",
      "INFO:qudit_sim.pulse_sim:Adding a drive with frequency 30000000000.000000 and envelope 0.3\n",
      "INFO:qudit_sim.pulse_sim:Number of drive terms: 2\n",
      "INFO:qudit_sim.pulse_sim:Using 1000 time points from 0.000e+00 to 3.142e-07\n",
      "INFO:qudit_sim.pulse_sim:Hamiltonian with 3 terms generated. Starting simulation..\n",
      "INFO:qudit_sim.pulse_sim:Done in 5.179978 seconds.\n",
      "INFO:qudit_sim.heff.maximize_fidelity:Starting maximization loop..\n",
      "INFO:qudit_sim.heff.maximize_fidelity:Done after 641 steps.\n"
     ]
    },
    {
     "data": {
      "text/latex": [
       "$\\displaystyle \\frac{H_{\\mathrm{eff}}}{2 \\pi \\mathrm{MHz}} = 3.944I + 35.259X - 3.963Z$"
      ],
      "text/plain": [
       "<IPython.core.display.Math object>"
      ]
     },
     "execution_count": 3,
     "metadata": {},
     "output_type": "execute_result"
    }
   ],
   "source": [
    "heff_3 = find_heff(\n",
    "    qubits=0,\n",
    "    params=params,\n",
    "    drive_def={0: {'frequency': params['wq0'], 'amplitude': 0.3}},\n",
    "    num_sim_levels=3,\n",
    "    log_level=logging.INFO\n",
    ")\n",
    "\n",
    "Math(heff_expr(heff_3))"
   ]
  },
  {
   "cell_type": "code",
   "execution_count": 4,
   "id": "f1e8f440-03a4-4642-bdd4-50aed324178b",
   "metadata": {},
   "outputs": [
    {
     "name": "stderr",
     "output_type": "stream",
     "text": [
      "INFO:qudit_sim.find_heff:Running a square pulse simulation for 100 cycles\n",
      "INFO:qudit_sim.pulse_sim:Instantiated a Hamiltonian generator for 1 qubits and 4 levels\n",
      "INFO:qudit_sim.pulse_sim:Number of interaction terms: 0\n",
      "INFO:qudit_sim.pulse_sim:Adding a drive with frequency 30000000000.000000 and envelope 0.3\n",
      "INFO:qudit_sim.pulse_sim:Number of drive terms: 4\n",
      "INFO:qudit_sim.pulse_sim:Using 1000 time points from 0.000e+00 to 1.571e-07\n",
      "INFO:qudit_sim.pulse_sim:Hamiltonian with 5 terms generated. Starting simulation..\n",
      "INFO:qudit_sim.pulse_sim:Done in 4.934754 seconds.\n",
      "INFO:qudit_sim.heff.maximize_fidelity:Starting maximization loop..\n",
      "INFO:qudit_sim.heff.maximize_fidelity:Done after 251 steps.\n"
     ]
    },
    {
     "data": {
      "text/latex": [
       "$\\displaystyle \\frac{H_{\\mathrm{eff}}}{2 \\pi \\mathrm{MHz}} = 4.020I + 35.250X - 3.992Z$"
      ],
      "text/plain": [
       "<IPython.core.display.Math object>"
      ]
     },
     "execution_count": 4,
     "metadata": {},
     "output_type": "execute_result"
    }
   ],
   "source": [
    "heff_4 = find_heff(\n",
    "    qubits=0,\n",
    "    params=params,\n",
    "    drive_def={0: {'frequency': params['wq0'], 'amplitude': 0.3}},\n",
    "    num_sim_levels=4,\n",
    "    log_level=logging.INFO\n",
    ")\n",
    "\n",
    "Math(heff_expr(heff_4))"
   ]
  },
  {
   "cell_type": "markdown",
   "id": "e199e5fe-9958-4902-b63a-e78a01429e15",
   "metadata": {},
   "source": [
    "## Simulator $H_{\\mathrm{eff}}$ amplitude scan from -1 to 1"
   ]
  },
  {
   "cell_type": "code",
   "execution_count": 5,
   "id": "881d06ca-b024-4a95-865b-1969b119bcd2",
   "metadata": {},
   "outputs": [],
   "source": [
    "run_amplitude_scan = True\n",
    "amplitudes = np.linspace(-1., 1., 40)\n",
    "\n",
    "if run_amplitude_scan:\n",
    "    drive_def = list({0: {'frequency': params['wq0'], 'amplitude': amp}} for amp in amplitudes)\n",
    "\n",
    "    heffs = find_heff(\n",
    "        qubits=0,\n",
    "        params=params,\n",
    "        drive_def=drive_def,\n",
    "        num_sim_levels=3,\n",
    "        save_result_to='amplitude_scan')\n",
    "    \n",
    "else:\n",
    "    heffs = np.empty(amplitudes.shape + (4,), dtype=np.complex128)\n",
    "\n",
    "    for iamp in range(amplitudes.shape[0]):\n",
    "        with h5py.File(f'amplitude_scan/heff_{iamp}.h5', 'r') as source:\n",
    "            heffs[iamp] = source['heff_coeffs'][()]"
   ]
  },
  {
   "cell_type": "code",
   "execution_count": 6,
   "id": "0d8bd33f-4fe7-4647-ad52-dc2670267a15",
   "metadata": {},
   "outputs": [
    {
     "data": {
      "image/png": "[encoded data removed]",
      "text/plain": [
       "<Figure size 432x288 with 1 Axes>"
      ]
     },
     "metadata": {
      "needs_background": "light"
     },
     "output_type": "display_data"
    }
   ],
   "source": [
    "fig, exprs = plot_amplitude_scan(amplitudes * params['omegad0'], heffs)"
   ]
  },
  {
   "cell_type": "markdown",
   "id": "a608c4fc-1338-42ad-9300-89a1505646b1",
   "metadata": {},
   "source": [
    "## Get the reference backend params and default pulse schedule"
   ]
  },
  {
   "cell_type": "code",
   "execution_count": 7,
   "id": "a8dbf5be-e1ab-4b0f-8f23-e69f79a8cbe8",
   "metadata": {},
   "outputs": [
    {
     "name": "stdout",
     "output_type": "stream",
     "text": [
      "Drag(duration=160, amp=(0.1798150396292341+0j), sigma=40, beta=-1.0569687519983744, name='Xp_d0')\n"
     ]
    }
   ],
   "source": [
    "IBMQ.load_account()\n",
    "provider = IBMQ.get_provider(hub='ibm-q-utokyo', group='internal', project='icepp')\n",
    "backend = provider.get_backend('ibm_kawasaki')\n",
    "\n",
    "params = backend.configuration().hamiltonian['vars']\n",
    "dt = backend.configuration().dt\n",
    "\n",
    "x_instr = backend.defaults().instruction_schedule_map.get('x', 0).instructions\n",
    "ref_pulse = x_instr[0][1].pulse\n",
    "print(ref_pulse)"
   ]
  },
  {
   "cell_type": "code",
   "execution_count": 8,
   "id": "2943e668-1c7a-4b4a-b04d-a0bad0b43c46",
   "metadata": {},
   "outputs": [],
   "source": [
    "params = {\n",
    "    'wq0': 33924495543.952213,\n",
    "    'wq1': 33023338321.77772,\n",
    "    'delta0': -2118378781.9719706,\n",
    "    'delta1': -2141932002.0128999,\n",
    "    'jq0q1': 13027010.077103492,\n",
    "    'omegad0': 1053863739.3980201,\n",
    "    'omegad1': 1305137153.295158,\n",
    "}\n",
    "dt = 0.22e-9\n",
    "ref_pulse = pulse.Drag(duration=160, amp=(0.17985363422777756+0j), sigma=40, beta=-1.07194080464718, name='Xp_d0')"
   ]
  },
  {
   "cell_type": "markdown",
   "id": "017d5437-08af-43a0-b4f5-8bd8df0e8aca",
   "metadata": {},
   "source": [
    "## Simulator Gaussian pulse amplitude scan"
   ]
  },
  {
   "cell_type": "code",
   "execution_count": 9,
   "id": "16a3e440-95f2-4b4d-ae95-9a08a47113d8",
   "metadata": {},
   "outputs": [],
   "source": [
    "amplitudes = np.linspace(-0.2, 0.2, 20)\n",
    "duration = ref_pulse.duration * dt\n",
    "\n",
    "drive_def = list({0: {'frequency': params['wq0'], 'amplitude': Gaussian(0., duration, amp, ref_pulse.sigma * dt)}} for amp in amplitudes)\n",
    "\n",
    "tlist = np.arange(0., duration, dt)\n",
    "\n",
    "results = parallel_map(\n",
    "    run_pulse_sim,\n",
    "    args=drive_def,\n",
    "    arg_position=2,\n",
    "    common_args=(0, params),\n",
    "    common_kwargs={'psi0': qtp.basis(3, 0), 'tlist': tlist})"
   ]
  },
  {
   "cell_type": "code",
   "execution_count": 10,
   "id": "bcbbb648-67ef-48a7-943d-3bd83832f1a0",
   "metadata": {},
   "outputs": [
    {
     "data": {
      "text/plain": [
       "<matplotlib.legend.Legend at 0x7f7db85f9ac0>"
      ]
     },
     "execution_count": 10,
     "metadata": {},
     "output_type": "execute_result"
    },
    {
     "data": {
      "image/png": "[encoded data removed]",
      "text/plain": [
       "<Figure size 432x288 with 1 Axes>"
      ]
     },
     "metadata": {
      "needs_background": "light"
     },
     "output_type": "display_data"
    }
   ],
   "source": [
    "probs = np.array([np.square(np.abs(np.squeeze(result.states[-1]))) for result in results])\n",
    "\n",
    "plt.plot(amplitudes, probs, label=['0', '1', '2'])\n",
    "plt.legend()"
   ]
  },
  {
   "cell_type": "markdown",
   "id": "a8d763b8-51a0-4f4e-84fc-2bbde714975c",
   "metadata": {},
   "source": [
    "## IBMQ amplitude scan"
   ]
  },
  {
   "cell_type": "code",
   "execution_count": 11,
   "id": "ad177a31-277e-4011-a6cf-c0630ffffb84",
   "metadata": {},
   "outputs": [],
   "source": [
    "schedules = []\n",
    "\n",
    "for amp in amplitudes:\n",
    "    with pulse.build(backend=backend, default_alignment='sequential') as sched:\n",
    "        drive_chan = pulse.drive_channel(0)\n",
    "        pulse.play(pulse.Gaussian(duration=ref_pulse.duration, sigma=ref_pulse.sigma, amp=amp), drive_chan)\n",
    "        pulse.measure(qubits=[0], registers=[pulse.MemorySlot(0)])\n",
    "\n",
    "    schedules.append(sched)"
   ]
  },
  {
   "cell_type": "code",
   "execution_count": 12,
   "id": "e68c38fb-f632-4ba6-bde6-5e3f175fbcd4",
   "metadata": {},
   "outputs": [],
   "source": [
    "shots = 4096\n",
    "\n",
    "#job = backend.run(schedules, shots=shots)\n",
    "#job_monitor(job)\n",
    "\n",
    "job = backend.retrieve_job('623c2910a2f72d3bebdab1d8')"
   ]
  },
  {
   "cell_type": "code",
   "execution_count": 13,
   "id": "1877d745-4a79-4724-9203-51879b8424ca",
   "metadata": {},
   "outputs": [
    {
     "data": {
      "text/plain": [
       "<matplotlib.legend.Legend at 0x7f81d0287460>"
      ]
     },
     "execution_count": 13,
     "metadata": {},
     "output_type": "execute_result"
    },
    {
     "data": {
      "image/png": "[encoded data removed]",
      "text/plain": [
       "<Figure size 432x288 with 1 Axes>"
      ]
     },
     "metadata": {
      "needs_background": "light"
     },
     "output_type": "display_data"
    }
   ],
   "source": [
    "counts = job.result().get_counts()\n",
    "\n",
    "exp_probs = np.array([[cnt.get('0', 0), cnt.get('1', 0)] for cnt in counts], dtype=float) / shots\n",
    "\n",
    "plt.plot(amplitudes, exp_probs, label=['0', '1'])\n",
    "plt.legend()"
   ]
  },
  {
   "cell_type": "markdown",
   "id": "4d7ee6cf-454b-4da0-b3b4-77b5261cb04e",
   "metadata": {},
   "source": [
    "So the `amp` parameter in qiskit.pulse is more or less really the factor applied to `omegadX`."
   ]
  },
  {
   "cell_type": "markdown",
   "id": "1561313a-faeb-4007-888d-5aaefaee82f6",
   "metadata": {},
   "source": [
    "## Confirming the $R_{z}$ component in the Gaussian pulse"
   ]
  },
  {
   "cell_type": "markdown",
   "id": "185b59ce-5580-40d3-8c81-950681a20532",
   "metadata": {},
   "source": [
    "### Simulator"
   ]
  },
  {
   "cell_type": "code",
   "execution_count": 14,
   "id": "3fa28996-ebe1-47e1-8e1e-60190159093e",
   "metadata": {},
   "outputs": [],
   "source": [
    "amplitudes = np.linspace(0.05, 0.8, 16)\n",
    "drive_def = []\n",
    "for amp in amplitudes:\n",
    "    sequence = Sequence([\n",
    "        Gaussian(0., 160. * dt, amp, 40. * dt),\n",
    "        Gaussian(160. * dt, 160. * dt, -amp, 40. * dt),\n",
    "        Gaussian(320. * dt, 160. * dt, amp, 40. * dt),\n",
    "        Gaussian(480. * dt, 160. * dt, -amp, 40. * dt)\n",
    "    ])\n",
    "    \n",
    "    drive_def.append({0: {'frequency': params['wq0'], 'amplitude': sequence}})\n",
    "    \n",
    "tlist = np.arange(0., 640. * dt, 0.1 / (params['wq0'] / twopi))\n",
    "    \n",
    "results = parallel_map(\n",
    "    run_pulse_sim,\n",
    "    args=drive_def,\n",
    "    arg_position=2,\n",
    "    common_args=(0, params),\n",
    "    common_kwargs={'psi0': qtp.basis(3, 0), 'tlist': tlist})"
   ]
  },
  {
   "cell_type": "code",
   "execution_count": 15,
   "id": "dc94b785-e0ef-43f4-b372-e2636e478696",
   "metadata": {},
   "outputs": [
    {
     "data": {
      "text/plain": [
       "<matplotlib.legend.Legend at 0x7f7d603c0790>"
      ]
     },
     "execution_count": 15,
     "metadata": {},
     "output_type": "execute_result"
    },
    {
     "data": {
      "image/png": "[encoded data removed]",
      "text/plain": [
       "<Figure size 432x288 with 1 Axes>"
      ]
     },
     "metadata": {
      "needs_background": "light"
     },
     "output_type": "display_data"
    }
   ],
   "source": [
    "probs = np.array([np.square(np.abs(np.squeeze(result.states[-1]))) for result in results])\n",
    "\n",
    "plt.plot(amplitudes, probs, label=['0', '1', '2'])\n",
    "plt.legend()"
   ]
  },
  {
   "cell_type": "markdown",
   "id": "b9f8e3ac-8fec-4e1a-bae1-c5064ad3b0cf",
   "metadata": {},
   "source": [
    "### IBMQ"
   ]
  },
  {
   "cell_type": "code",
   "execution_count": 16,
   "id": "4a4ddb1d-bff4-4f58-be62-49ca6019ef8d",
   "metadata": {},
   "outputs": [],
   "source": [
    "schedules = []\n",
    "\n",
    "for amp in amplitudes:\n",
    "    with pulse.build(backend=backend, default_alignment='sequential') as sched:\n",
    "        drive_chan = pulse.drive_channel(0)\n",
    "        pulse.play(pulse.Gaussian(duration=ref_pulse.duration, sigma=ref_pulse.sigma, amp=amp), drive_chan)\n",
    "        pulse.play(pulse.Gaussian(duration=ref_pulse.duration, sigma=ref_pulse.sigma, amp=-amp), drive_chan)\n",
    "        pulse.play(pulse.Gaussian(duration=ref_pulse.duration, sigma=ref_pulse.sigma, amp=amp), drive_chan)\n",
    "        pulse.play(pulse.Gaussian(duration=ref_pulse.duration, sigma=ref_pulse.sigma, amp=-amp), drive_chan)\n",
    "        pulse.measure(qubits=[0], registers=[pulse.MemorySlot(0)])\n",
    "\n",
    "    schedules.append(sched)"
   ]
  },
  {
   "cell_type": "code",
   "execution_count": 17,
   "id": "43eabed3-46fa-49dd-9ce6-ea6dccaca47d",
   "metadata": {},
   "outputs": [],
   "source": [
    "shots = 4096\n",
    "\n",
    "#job = backend.run(schedules, shots=shots)\n",
    "#job_monitor(job)\n",
    "\n",
    "job = backend.retrieve_job('623d13fbe32b42bc0aecda5b')"
   ]
  },
  {
   "cell_type": "code",
   "execution_count": 18,
   "id": "174b118a-f7d8-46b5-bc53-966c2ba23ccd",
   "metadata": {},
   "outputs": [
    {
     "data": {
      "text/plain": [
       "<matplotlib.legend.Legend at 0x7f7d60494820>"
      ]
     },
     "execution_count": 18,
     "metadata": {},
     "output_type": "execute_result"
    },
    {
     "data": {
      "image/png": "[encoded data removed]",
      "text/plain": [
       "<Figure size 432x288 with 1 Axes>"
      ]
     },
     "metadata": {
      "needs_background": "light"
     },
     "output_type": "display_data"
    }
   ],
   "source": [
    "counts = job.result().get_counts()\n",
    "\n",
    "exp_probs = np.array([[cnt.get('0', 0), cnt.get('1', 0)] for cnt in counts], dtype=float) / shots\n",
    "\n",
    "plt.plot(amplitudes, exp_probs, label=['0', '1'])\n",
    "plt.legend()"
   ]
  },
  {
   "cell_type": "markdown",
   "id": "898b7d71-5222-4693-a542-ccdca76d174f",
   "metadata": {},
   "source": [
    "I guess we are seeing it.."
   ]
  }
 ],
 "metadata": {
  "kernelspec": {
   "display_name": "Python 3 (ipykernel)",
   "language": "python",
   "name": "python3"
  },
  "language_info": {
   "codemirror_mode": {
    "name": "ipython",
    "version": 3
   },
   "file_extension": ".py",
   "mimetype": "text/x-python",
   "name": "python",
   "nbconvert_exporter": "python",
   "pygments_lexer": "ipython3",
   "version": "3.8.10"
  }
 },
 "nbformat": 4,
 "nbformat_minor": 5
}
